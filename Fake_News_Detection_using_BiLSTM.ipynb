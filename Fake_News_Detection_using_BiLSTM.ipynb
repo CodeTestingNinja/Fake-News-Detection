{
  "nbformat": 4,
  "nbformat_minor": 0,
  "metadata": {
    "colab": {
      "provenance": [],
      "machine_shape": "hm",
      "gpuType": "L4"
    },
    "kernelspec": {
      "name": "python3",
      "display_name": "Python 3"
    },
    "language_info": {
      "name": "python"
    },
    "accelerator": "GPU"
  },
  "cells": [
    {
      "cell_type": "markdown",
      "source": [
        "# Set OpenAI API Key"
      ],
      "metadata": {
        "id": "Ej36QatsDSUt"
      }
    },
    {
      "cell_type": "code",
      "source": [
        "# Set OpenAI API key as environment variable\n",
        "%env OPENAI_API_KEY=123456789"
      ],
      "metadata": {
        "colab": {
          "base_uri": "https://localhost:8080/"
        },
        "id": "dym3oc5iDVtV",
        "outputId": "c648e8e4-c51a-4639-e6a9-abd14a49b45c"
      },
      "execution_count": 1,
      "outputs": [
        {
          "output_type": "stream",
          "name": "stdout",
          "text": [
            "env: OPENAI_API_KEY=123456789\n"
          ]
        }
      ]
    },
    {
      "cell_type": "markdown",
      "source": [
        "# Import Libraries"
      ],
      "metadata": {
        "id": "iYANzl7eCHoP"
      }
    },
    {
      "cell_type": "markdown",
      "source": [
        "## Core Libraries"
      ],
      "metadata": {
        "id": "5g1FAo0HCcml"
      }
    },
    {
      "cell_type": "code",
      "execution_count": 2,
      "metadata": {
        "id": "PJTVYIz5B9Jc"
      },
      "outputs": [],
      "source": [
        "import pandas as pd\n",
        "import numpy as np\n",
        "import re\n",
        "import string\n",
        "import matplotlib.pyplot as plt\n",
        "import seaborn as sns\n",
        "import pickle # For saving tokenizer"
      ]
    },
    {
      "cell_type": "markdown",
      "source": [
        "## NLTK for Text Processing"
      ],
      "metadata": {
        "id": "HsaJi9XbCkDd"
      }
    },
    {
      "cell_type": "code",
      "source": [
        "import nltk\n",
        "nltk.download('punkt_tab', quiet=True)\n",
        "nltk.download('stopwords', quiet=True)\n",
        "nltk.download('wordnet', quiet=True)\n",
        "nltk.download('omw-1.4', quiet=True)\n",
        "from nltk.tokenize import word_tokenize\n",
        "from nltk.corpus import stopwords\n",
        "from nltk.stem import WordNetLemmatizer"
      ],
      "metadata": {
        "id": "I92gTPQ2CnUr"
      },
      "execution_count": 3,
      "outputs": []
    },
    {
      "cell_type": "markdown",
      "source": [
        "## Embeddings for Words"
      ],
      "metadata": {
        "id": "ZzfUyAqJmwNT"
      }
    },
    {
      "cell_type": "code",
      "source": [
        "# import os\n",
        "# if not os.path.exists('glove.6B.zip'):\n",
        "#     # Download the GloVe 6B embeddings (822MB)\n",
        "#     !wget http://nlp.stanford.edu/data/glove.6B.zip\n",
        "#     # Unzip the file\n",
        "#     !unzip glove.6B.zip"
      ],
      "metadata": {
        "id": "d9mxSK4cm33X"
      },
      "execution_count": 4,
      "outputs": []
    },
    {
      "cell_type": "markdown",
      "source": [
        "## Scikit-learn for Splitting and Metrics"
      ],
      "metadata": {
        "id": "bQc0mAPZCqEV"
      }
    },
    {
      "cell_type": "code",
      "source": [
        "from sklearn.model_selection import train_test_split\n",
        "from sklearn.metrics import classification_report, confusion_matrix, accuracy_score"
      ],
      "metadata": {
        "id": "_kTBsDPFCtXV"
      },
      "execution_count": 5,
      "outputs": []
    },
    {
      "cell_type": "markdown",
      "source": [
        "## TensorFlow and Keras for Deep Learning"
      ],
      "metadata": {
        "id": "85iAzaDoCzAM"
      }
    },
    {
      "cell_type": "code",
      "source": [
        "import tensorflow as tf\n",
        "from tensorflow.keras.preprocessing.text import Tokenizer\n",
        "from tensorflow.keras.preprocessing.sequence import pad_sequences\n",
        "from tensorflow.keras.models import Sequential, load_model\n",
        "from tensorflow.keras.layers import Embedding, Bidirectional, LSTM, Dense, Dropout, SpatialDropout1D\n",
        "from tensorflow.keras.callbacks import EarlyStopping, ModelCheckpoint\n",
        "from tensorflow.keras.optimizers import Adam"
      ],
      "metadata": {
        "id": "Ir4kRQzeC78V"
      },
      "execution_count": 6,
      "outputs": []
    },
    {
      "cell_type": "markdown",
      "source": [
        "## KerasTuner for Hyperparameter Optimization"
      ],
      "metadata": {
        "id": "ImVh9qnnC-gd"
      }
    },
    {
      "cell_type": "code",
      "source": [
        "!pip install keras-tuner -q # Uncomment and run once if not installed\n",
        "import keras_tuner as kt"
      ],
      "metadata": {
        "colab": {
          "base_uri": "https://localhost:8080/"
        },
        "id": "GPq3V3HQDC8-",
        "outputId": "9b2e4de7-8aca-4370-f2fd-121eea1f9578"
      },
      "execution_count": 7,
      "outputs": [
        {
          "output_type": "stream",
          "name": "stdout",
          "text": [
            "\u001b[?25l   \u001b[90m━━━━━━━━━━━━━━━━━━━━━━━━━━━━━━━━━━━━━━━━\u001b[0m \u001b[32m0.0/129.1 kB\u001b[0m \u001b[31m?\u001b[0m eta \u001b[36m-:--:--\u001b[0m\r\u001b[2K   \u001b[90m━━━━━━━━━━━━━━━━━━━━━━━━━━━━━━━━━━━━━━━━\u001b[0m \u001b[32m129.1/129.1 kB\u001b[0m \u001b[31m4.0 MB/s\u001b[0m eta \u001b[36m0:00:00\u001b[0m\n",
            "\u001b[?25h"
          ]
        }
      ]
    },
    {
      "cell_type": "markdown",
      "source": [],
      "metadata": {
        "id": "z6m2FxTW7cl1"
      }
    },
    {
      "cell_type": "code",
      "source": [
        "from google.colab import files"
      ],
      "metadata": {
        "id": "xUZs2_Tf7asl"
      },
      "execution_count": 27,
      "outputs": []
    },
    {
      "cell_type": "markdown",
      "source": [
        "# Datasets and Preprocessing"
      ],
      "metadata": {
        "id": "FqFOQlKQDFjc"
      }
    },
    {
      "cell_type": "markdown",
      "source": [
        "## Uploading Datasets"
      ],
      "metadata": {
        "id": "uDgNGze0EIub"
      }
    },
    {
      "cell_type": "code",
      "source": [
        "PATH_ISOT_FAKE = '/content/drive/MyDrive/Fake_News_Detection_Project/Datasets/ISOT/Fake.csv' # e.g., 'data/ISOT/Fake.csv'\n",
        "PATH_ISOT_TRUE = '/content/drive/MyDrive/Fake_News_Detection_Project/Datasets/ISOT/True.csv' # e.g., 'data/ISOT/True.csv'\n",
        "PATH_WELFAKE = '/content/drive/MyDrive/Fake_News_Detection_Project/Datasets/Phase_4.csv' # e.g., 'data/WELFake/WELFake_Dataset.csv'\n",
        "PATH_LIAR_TRAIN = '/content/drive/MyDrive/Fake_News_Detection_Project/Datasets/LIAR/train.tsv' # e.g., 'data/LIAR/train.tsv'"
      ],
      "metadata": {
        "id": "4JzjZACSEFzK"
      },
      "execution_count": 53,
      "outputs": []
    },
    {
      "cell_type": "markdown",
      "source": [
        "## Data Loading and Initial Preprocessing"
      ],
      "metadata": {
        "id": "V2jIvT_iEusK"
      }
    },
    {
      "cell_type": "code",
      "source": [
        "def standardize_label_isot_welfake(label):\n",
        "    try:\n",
        "        label_int = int(label)\n",
        "        if label_int == 0: return 0 # Fake\n",
        "        if label_int == 1: return 1 # Real\n",
        "    except:\n",
        "        pass # Handle non-integer labels if any\n",
        "    return None # For unmappable labels"
      ],
      "metadata": {
        "id": "q1JUo69MFBtT"
      },
      "execution_count": 54,
      "outputs": []
    },
    {
      "cell_type": "code",
      "source": [
        "def standardize_label_liar(label_str):\n",
        "    label_str = str(label_str).lower()\n",
        "    if label_str in ['false', 'pants-fire', 'pants on fire', 'mostly-false']:\n",
        "        return 0 # Fake\n",
        "    elif label_str in ['true', 'mostly-true', 'half-true']: # half-true is debatable, adjust as needed\n",
        "        return 1 # Real\n",
        "    return None # For 'barely-true' or other nuanced labels you might exclude or map differently"
      ],
      "metadata": {
        "id": "VEAKHzz2FI6C"
      },
      "execution_count": 55,
      "outputs": []
    },
    {
      "cell_type": "code",
      "source": [
        "dataframes = []"
      ],
      "metadata": {
        "id": "PxUPVaEdFMRi"
      },
      "execution_count": 56,
      "outputs": []
    },
    {
      "cell_type": "markdown",
      "source": [
        "### Load ISOT Dataset"
      ],
      "metadata": {
        "id": "KpyckQSKFOWq"
      }
    },
    {
      "cell_type": "code",
      "source": [
        "try:\n",
        "    df_fake_isot = pd.read_csv(PATH_ISOT_FAKE)\n",
        "    df_true_isot = pd.read_csv(PATH_ISOT_TRUE)\n",
        "    df_fake_isot['label_orig'] = 0 # Mark as fake\n",
        "    df_true_isot['label_orig'] = 1 # Mark as real\n",
        "    df_isot = pd.concat([df_fake_isot, df_true_isot], ignore_index=True)\n",
        "    df_isot.rename(columns={'text': 'text_col', 'title': 'title_col'}, inplace=True) # Avoid name clashes\n",
        "    df_isot['label'] = df_isot['label_orig'].apply(standardize_label_isot_welfake)\n",
        "    df_isot = df_isot[['title_col', 'text_col', 'label']].copy()\n",
        "    df_isot.dropna(subset=['title_col', 'text_col', 'label'], inplace=True)\n",
        "    df_isot['label'] = df_isot['label'].astype(int)\n",
        "    dataframes.append(df_isot)\n",
        "    print(f\"ISOT dataset loaded: {len(df_isot)} samples.\")\n",
        "except FileNotFoundError:\n",
        "    print(f\"Warning: ISOT dataset files not found at {PATH_ISOT_FAKE} or {PATH_ISOT_TRUE}.\")\n",
        "except Exception as e:\n",
        "    print(f\"Error loading ISOT dataset: {e}\")"
      ],
      "metadata": {
        "colab": {
          "base_uri": "https://localhost:8080/"
        },
        "id": "oa56CtgSFWez",
        "outputId": "291e7264-e518-4c4a-fcb0-210fdf4d43d1"
      },
      "execution_count": 57,
      "outputs": [
        {
          "output_type": "stream",
          "name": "stdout",
          "text": [
            "ISOT dataset loaded: 44898 samples.\n"
          ]
        }
      ]
    },
    {
      "cell_type": "markdown",
      "source": [
        "### Load WELFake Dataset"
      ],
      "metadata": {
        "id": "3U5XitaaFcdx"
      }
    },
    {
      "cell_type": "code",
      "source": [
        "try:\n",
        "    df_welfake = pd.read_csv(PATH_WELFAKE)\n",
        "    # WELFake often has an unnamed index column\n",
        "    if 'Unnamed: 0' in df_welfake.columns:\n",
        "        df_welfake.drop('Unnamed: 0', axis=1, inplace=True)\n",
        "    df_welfake.rename(columns={'text': 'text_col', 'title': 'title_col', 'label': 'label_orig'}, inplace=True)\n",
        "    df_welfake['label'] = df_welfake['label_orig'].apply(standardize_label_isot_welfake)\n",
        "    df_welfake = df_welfake[['title_col', 'text_col', 'label']].copy()\n",
        "    df_welfake.dropna(subset=['title_col', 'text_col', 'label'], inplace=True)\n",
        "    df_welfake['label'] = df_welfake['label'].astype(int)\n",
        "    dataframes.append(df_welfake)\n",
        "    print(f\"WELFake dataset loaded: {len(df_welfake)} samples.\")\n",
        "except FileNotFoundError:\n",
        "    print(f\"Warning: WELFake dataset file not found at {PATH_WELFAKE}.\")\n",
        "except Exception as e:\n",
        "    print(f\"Error loading WELFake dataset: {e}\")"
      ],
      "metadata": {
        "colab": {
          "base_uri": "https://localhost:8080/"
        },
        "id": "iM1ZB4G2FiOy",
        "outputId": "92538b18-c3a8-4473-ea5e-ce22b6677efd"
      },
      "execution_count": 58,
      "outputs": [
        {
          "output_type": "stream",
          "name": "stdout",
          "text": [
            "WELFake dataset loaded: 71537 samples.\n"
          ]
        }
      ]
    },
    {
      "cell_type": "markdown",
      "source": [
        "### Load LIAR Dataset"
      ],
      "metadata": {
        "id": "R-9GJgEhFlfS"
      }
    },
    {
      "cell_type": "code",
      "source": [
        "try:\n",
        "    # LIAR columns: ID, Label, Statement, Subject(s), Speaker, Speaker's Job, State, Party,\n",
        "    # Barely true, False, Half true, Mostly true, Pants on fire, Context\n",
        "    df_liar_train = pd.read_csv(PATH_LIAR_TRAIN, sep='\\t', header=None,\n",
        "                                names=['id', 'label_liar', 'statement', 'subject', 'speaker', 'job_title',\n",
        "                                       'state_info', 'party_affiliation', 'bt_counts', 'f_counts',\n",
        "                                       'ht_counts', 'mt_counts', 'pof_counts', 'context'])\n",
        "    df_liar_train.rename(columns={'statement': 'text_col', 'subject': 'title_col', 'label_liar':'label_orig'}, inplace=True)\n",
        "    df_liar_train['label'] = df_liar_train['label_orig'].apply(standardize_label_liar)\n",
        "    df_liar_train = df_liar_train[['title_col', 'text_col', 'label']].copy()\n",
        "    df_liar_train['title_col'] = df_liar_train['title_col'].fillna('') # Titles can be sparse\n",
        "    df_liar_train.dropna(subset=['text_col', 'label'], inplace=True)\n",
        "    df_liar_train['label'] = df_liar_train['label'].astype(int)\n",
        "    dataframes.append(df_liar_train)\n",
        "    print(f\"LIAR train dataset loaded: {len(df_liar_train)} samples.\")\n",
        "except FileNotFoundError:\n",
        "    print(f\"Warning: LIAR dataset file not found at {PATH_LIAR_TRAIN}.\")\n",
        "except Exception as e:\n",
        "    print(f\"Error loading LIAR dataset: {e}\")"
      ],
      "metadata": {
        "colab": {
          "base_uri": "https://localhost:8080/"
        },
        "id": "dGIr8_z-Fp6D",
        "outputId": "864b230e-0ad9-4d88-f6f9-efeeff4118c7"
      },
      "execution_count": 59,
      "outputs": [
        {
          "output_type": "stream",
          "name": "stdout",
          "text": [
            "LIAR train dataset loaded: 8586 samples.\n"
          ]
        }
      ]
    },
    {
      "cell_type": "markdown",
      "source": [
        "### Invalid Datasets"
      ],
      "metadata": {
        "id": "lCbIeltuFyrx"
      }
    },
    {
      "cell_type": "code",
      "source": [
        "if not dataframes:\n",
        "    raise SystemExit(\"No datasets were loaded. Please check paths and ensure at least one dataset is available.\")"
      ],
      "metadata": {
        "id": "Ixd3bszKF2mx"
      },
      "execution_count": 60,
      "outputs": []
    },
    {
      "cell_type": "markdown",
      "source": [
        "### Merge all Datasets"
      ],
      "metadata": {
        "id": "0n022aYuF6PD"
      }
    },
    {
      "cell_type": "code",
      "source": [
        "merged_df = pd.concat(dataframes, ignore_index=True)\n",
        "print(f\"Total samples after merging: {len(merged_df)}\")"
      ],
      "metadata": {
        "colab": {
          "base_uri": "https://localhost:8080/"
        },
        "id": "OL1HL2O1GAb-",
        "outputId": "ec72a921-721a-46ee-e450-303609c18329"
      },
      "execution_count": 61,
      "outputs": [
        {
          "output_type": "stream",
          "name": "stdout",
          "text": [
            "Total samples after merging: 125021\n"
          ]
        }
      ]
    },
    {
      "cell_type": "markdown",
      "source": [
        "#### Download the Combined Dataset"
      ],
      "metadata": {
        "id": "autQbyeBGs9_"
      }
    },
    {
      "cell_type": "code",
      "source": [
        "# # Shuffle the merged dataset\n",
        "# merged_df = merged_df.sample(frac=1, random_state=42).reset_index(drop=True)\n",
        "\n",
        "# # Define the output path for the shuffled dataset\n",
        "# output_path = '/content/drive/MyDrive/Fake_News_Detection_Project/Datasets/shuffled_merged_dataset.csv'\n",
        "\n",
        "# # Save the shuffled dataset to a CSV file\n",
        "# merged_df.to_csv(output_path, index=False)\n",
        "\n",
        "# print(f\"Shuffled dataset saved to {output_path}\")\n",
        "\n",
        "# # Download the shuffled CSV file\n",
        "# files.download(output_path)\n",
        "# print(f\"Shuffled dataset downloaded.\")"
      ],
      "metadata": {
        "colab": {
          "base_uri": "https://localhost:8080/",
          "height": 52
        },
        "id": "Uw78Mo6W6uVB",
        "outputId": "8ad8408f-426d-47b4-ce6d-9f5c1822ba88"
      },
      "execution_count": 28,
      "outputs": [
        {
          "output_type": "stream",
          "name": "stdout",
          "text": [
            "Shuffled dataset saved to /content/drive/MyDrive/Fake_News_Detection_Project/Datasets/shuffled_merged_dataset.csv\n"
          ]
        },
        {
          "output_type": "display_data",
          "data": {
            "text/plain": [
              "<IPython.core.display.Javascript object>"
            ],
            "application/javascript": [
              "\n",
              "    async function download(id, filename, size) {\n",
              "      if (!google.colab.kernel.accessAllowed) {\n",
              "        return;\n",
              "      }\n",
              "      const div = document.createElement('div');\n",
              "      const label = document.createElement('label');\n",
              "      label.textContent = `Downloading \"${filename}\": `;\n",
              "      div.appendChild(label);\n",
              "      const progress = document.createElement('progress');\n",
              "      progress.max = size;\n",
              "      div.appendChild(progress);\n",
              "      document.body.appendChild(div);\n",
              "\n",
              "      const buffers = [];\n",
              "      let downloaded = 0;\n",
              "\n",
              "      const channel = await google.colab.kernel.comms.open(id);\n",
              "      // Send a message to notify the kernel that we're ready.\n",
              "      channel.send({})\n",
              "\n",
              "      for await (const message of channel.messages) {\n",
              "        // Send a message to notify the kernel that we're ready.\n",
              "        channel.send({})\n",
              "        if (message.buffers) {\n",
              "          for (const buffer of message.buffers) {\n",
              "            buffers.push(buffer);\n",
              "            downloaded += buffer.byteLength;\n",
              "            progress.value = downloaded;\n",
              "          }\n",
              "        }\n",
              "      }\n",
              "      const blob = new Blob(buffers, {type: 'application/binary'});\n",
              "      const a = document.createElement('a');\n",
              "      a.href = window.URL.createObjectURL(blob);\n",
              "      a.download = filename;\n",
              "      div.appendChild(a);\n",
              "      a.click();\n",
              "      div.remove();\n",
              "    }\n",
              "  "
            ]
          },
          "metadata": {}
        },
        {
          "output_type": "display_data",
          "data": {
            "text/plain": [
              "<IPython.core.display.Javascript object>"
            ],
            "application/javascript": [
              "download(\"download_d08e873e-abdf-4a31-9411-17ed8da8aeb3\", \"shuffled_merged_dataset.csv\", 360718227)"
            ]
          },
          "metadata": {}
        },
        {
          "output_type": "stream",
          "name": "stdout",
          "text": [
            "Shuffled dataset downloaded.\n"
          ]
        }
      ]
    },
    {
      "cell_type": "markdown",
      "source": [
        "### Combine Title and Text"
      ],
      "metadata": {
        "id": "E8oXu5S5GX_p"
      }
    },
    {
      "cell_type": "code",
      "source": [
        "merged_df['full_text'] = merged_df['title_col'].astype(str) + \" \" + merged_df['text_col'].astype(str)\n",
        "merged_df = merged_df[['full_text', 'label']]\n",
        "merged_df.dropna(inplace=True) # Just in case\n",
        "merged_df.drop_duplicates(subset=['full_text'], inplace=True) # Remove duplicate articles\n",
        "print(f\"Total samples after combining text and removing duplicates: {len(merged_df)}\")"
      ],
      "metadata": {
        "colab": {
          "base_uri": "https://localhost:8080/"
        },
        "id": "8a9nd5StGbkF",
        "outputId": "d9143d77-6b9a-4065-ea5c-9ffc26e7381c"
      },
      "execution_count": 62,
      "outputs": [
        {
          "output_type": "stream",
          "name": "stdout",
          "text": [
            "Total samples after combining text and removing duplicates: 71698\n"
          ]
        },
        {
          "output_type": "stream",
          "name": "stderr",
          "text": [
            "<ipython-input-62-2190887902>:3: SettingWithCopyWarning: \n",
            "A value is trying to be set on a copy of a slice from a DataFrame\n",
            "\n",
            "See the caveats in the documentation: https://pandas.pydata.org/pandas-docs/stable/user_guide/indexing.html#returning-a-view-versus-a-copy\n",
            "  merged_df.dropna(inplace=True) # Just in case\n",
            "<ipython-input-62-2190887902>:4: SettingWithCopyWarning: \n",
            "A value is trying to be set on a copy of a slice from a DataFrame\n",
            "\n",
            "See the caveats in the documentation: https://pandas.pydata.org/pandas-docs/stable/user_guide/indexing.html#returning-a-view-versus-a-copy\n",
            "  merged_df.drop_duplicates(subset=['full_text'], inplace=True) # Remove duplicate articles\n"
          ]
        }
      ]
    },
    {
      "cell_type": "markdown",
      "source": [
        "### Shuffle the Dataset"
      ],
      "metadata": {
        "id": "pyEuZHT5Gfkp"
      }
    },
    {
      "cell_type": "code",
      "source": [
        "merged_df = merged_df.sample(frac=1, random_state=42).reset_index(drop=True)"
      ],
      "metadata": {
        "id": "74UorZNTGmuR"
      },
      "execution_count": 63,
      "outputs": []
    },
    {
      "cell_type": "code",
      "source": [
        "print(\"Label distribution in merged dataset:\")\n",
        "print(merged_df['label'].value_counts(normalize=True))"
      ],
      "metadata": {
        "colab": {
          "base_uri": "https://localhost:8080/"
        },
        "id": "YiljTysKG0ao",
        "outputId": "0a5c9093-5372-4338-c25b-756dac5e23da"
      },
      "execution_count": 64,
      "outputs": [
        {
          "output_type": "stream",
          "name": "stdout",
          "text": [
            "Label distribution in merged dataset:\n",
            "label\n",
            "1    0.521186\n",
            "0    0.478814\n",
            "Name: proportion, dtype: float64\n"
          ]
        }
      ]
    },
    {
      "cell_type": "markdown",
      "source": [
        "# Advanced Text Processing"
      ],
      "metadata": {
        "id": "rqj3KH8SlBfI"
      }
    },
    {
      "cell_type": "code",
      "source": [
        "stop_words = set(stopwords.words('english'))\n",
        "lemmatizer = WordNetLemmatizer()"
      ],
      "metadata": {
        "id": "NueTO2JnlDFI"
      },
      "execution_count": 65,
      "outputs": []
    },
    {
      "cell_type": "code",
      "source": [
        "def preprocess_text_data(text):\n",
        "    text = str(text).lower() # Ensure text is string and lowercase\n",
        "    text = re.sub(f'[{re.escape(string.punctuation)}]', '', text) # Remove punctuation\n",
        "    text = re.sub(r'\\s+', ' ', text).strip() # Remove extra whitespace\n",
        "    tokens = word_tokenize(text)\n",
        "    tokens = [word for word in tokens if word.isalpha()] # Keep only alphabetic tokens\n",
        "    tokens = [word for word in tokens if word not in stop_words]\n",
        "    tokens = [lemmatizer.lemmatize(word) for word in tokens]\n",
        "    return ' '.join(tokens)"
      ],
      "metadata": {
        "id": "PZbefIM0lpqW"
      },
      "execution_count": 66,
      "outputs": []
    },
    {
      "cell_type": "code",
      "source": [
        "print(\"\\nStarting text preprocessing...\")\n",
        "merged_df['processed_text'] = merged_df['full_text'].apply(preprocess_text_data)\n",
        "print(\"Text preprocessing complete.\")\n",
        "print(merged_df[['full_text', 'processed_text', 'label']].head())"
      ],
      "metadata": {
        "colab": {
          "base_uri": "https://localhost:8080/"
        },
        "id": "uHemAW9blsBL",
        "outputId": "d30c12d2-14a4-4ef3-f1b8-e981d33a2b46"
      },
      "execution_count": 67,
      "outputs": [
        {
          "output_type": "stream",
          "name": "stdout",
          "text": [
            "\n",
            "Starting text preprocessing...\n",
            "Text preprocessing complete.\n",
            "                                           full_text  \\\n",
            "0  Friday Mailbag: When the President Attacks - T...   \n",
            "1  The Geopolitics of Russia-Egypt Relations Leav...   \n",
            "2  Tony Award Winners - The New York Times  Our c...   \n",
            "3  Hillary's Hypocrisy On Sexual Assault BRUTALLY...   \n",
            "4  education Says she was the first in her family...   \n",
            "\n",
            "                                      processed_text  label  \n",
            "0  friday mailbag president attack new york time ...      0  \n",
            "1  geopolitics russiaegypt relation leave reply c...      1  \n",
            "2  tony award winner new york time complete cover...      0  \n",
            "3  hillary hypocrisy sexual assault brutally expo...      1  \n",
            "4     education say first family go fouryear college      0  \n"
          ]
        }
      ]
    },
    {
      "cell_type": "markdown",
      "source": [
        "# Word Embeddings"
      ],
      "metadata": {
        "id": "U1Fpop6_mH_o"
      }
    },
    {
      "cell_type": "markdown",
      "source": [
        "## Upload GloVe"
      ],
      "metadata": {
        "id": "mb831ptzmMyL"
      }
    },
    {
      "cell_type": "code",
      "source": [
        "GLOVE_FILE_PATH = '/content/drive/MyDrive/Fake_News_Detection_Project/Datasets/glove.6B.100d.txt' # e.g., 'embeddings/glove.6B.100d.txt'"
      ],
      "metadata": {
        "id": "Punx9eS5mMFU"
      },
      "execution_count": 68,
      "outputs": []
    },
    {
      "cell_type": "markdown",
      "source": [
        "## Vectorization"
      ],
      "metadata": {
        "id": "OdTi1BrCnW5u"
      }
    },
    {
      "cell_type": "code",
      "source": [
        "MAX_NUM_WORDS = 50000  # Max words in vocabulary\n",
        "MAX_SEQUENCE_LENGTH = 300 # Max length of sequences (tune this based on your data analysis)\n",
        "EMBEDDING_DIM = 100    # Dimension of GloVe embeddings used (must match your GloVe file)"
      ],
      "metadata": {
        "id": "TTn1mVZtnk-I"
      },
      "execution_count": 69,
      "outputs": []
    },
    {
      "cell_type": "code",
      "source": [
        "tokenizer = Tokenizer(num_words=MAX_NUM_WORDS, oov_token=\"<oov>\")\n",
        "tokenizer.fit_on_texts(merged_df['processed_text'])\n",
        "word_index = tokenizer.word_index"
      ],
      "metadata": {
        "id": "lThECqaQq_QT"
      },
      "execution_count": 70,
      "outputs": []
    },
    {
      "cell_type": "markdown",
      "source": [
        "### Save the tokenizer"
      ],
      "metadata": {
        "id": "lAO6MG6Mnvpm"
      }
    },
    {
      "cell_type": "code",
      "source": [
        "with open('tokenizer.pickle', 'wb') as handle:\n",
        "    pickle.dump(tokenizer, handle, protocol=pickle.HIGHEST_PROTOCOL)\n",
        "print(f\"Tokenizer saved to tokenizer.pickle. Vocabulary size: {len(word_index)}\")"
      ],
      "metadata": {
        "colab": {
          "base_uri": "https://localhost:8080/"
        },
        "id": "E5JSYxjOnxW0",
        "outputId": "00a219de-79f6-4c72-91c1-a4bd1f12c616"
      },
      "execution_count": 71,
      "outputs": [
        {
          "output_type": "stream",
          "name": "stdout",
          "text": [
            "Tokenizer saved to tokenizer.pickle. Vocabulary size: 324752\n"
          ]
        }
      ]
    },
    {
      "cell_type": "markdown",
      "source": [
        "## Create Embedding Matrix from GloVe"
      ],
      "metadata": {
        "id": "0Kyi62x9oi_r"
      }
    },
    {
      "cell_type": "code",
      "source": [
        "sequences = tokenizer.texts_to_sequences(merged_df['processed_text'])\n",
        "padded_sequences = pad_sequences(sequences, maxlen=MAX_SEQUENCE_LENGTH, padding='post', truncating='post')"
      ],
      "metadata": {
        "id": "HuCM6WNvokTW"
      },
      "execution_count": 72,
      "outputs": []
    },
    {
      "cell_type": "code",
      "source": [
        "labels_final = merged_df['label'].values"
      ],
      "metadata": {
        "id": "kv3NvBpnopo-"
      },
      "execution_count": 73,
      "outputs": []
    },
    {
      "cell_type": "code",
      "source": [
        "print(\"\\nLoading GloVe embeddings...\")\n",
        "embeddings_index = {}\n",
        "try:\n",
        "    with open(GLOVE_FILE_PATH, encoding='utf-8') as f:\n",
        "        for line in f:\n",
        "            values = line.split()\n",
        "            word = values[0]\n",
        "            coefs = np.asarray(values[1:], dtype='float32')\n",
        "            embeddings_index[word] = coefs\n",
        "    print(f\"Found {len(embeddings_index)} word vectors in GloVe.\")\n",
        "\n",
        "    embedding_matrix = np.zeros((min(MAX_NUM_WORDS, len(word_index) + 1), EMBEDDING_DIM))\n",
        "    num_words_in_glove = 0\n",
        "    for word, i in word_index.items():\n",
        "        if i >= MAX_NUM_WORDS:\n",
        "            continue\n",
        "        embedding_vector = embeddings_index.get(word)\n",
        "        if embedding_vector is not None:\n",
        "            embedding_matrix[i] = embedding_vector\n",
        "            num_words_in_glove +=1\n",
        "    print(f\"Embedding matrix created. {num_words_in_glove}/{min(MAX_NUM_WORDS, len(word_index) + 1)} words found in GloVe.\")\n",
        "\n",
        "except FileNotFoundError:\n",
        "    print(f\"GloVe file not found at {GLOVE_FILE_PATH}. Embedding layer will be initialized randomly if trainable.\")\n",
        "    embedding_matrix = None # Will be handled in model building\n",
        "except Exception as e:\n",
        "    print(f\"Error loading GloVe: {e}\")\n",
        "    embedding_matrix = None"
      ],
      "metadata": {
        "colab": {
          "base_uri": "https://localhost:8080/"
        },
        "id": "gYamlKegosVK",
        "outputId": "65a6b97d-6ac3-4976-b1b1-0c857db3f339"
      },
      "execution_count": 74,
      "outputs": [
        {
          "output_type": "stream",
          "name": "stdout",
          "text": [
            "\n",
            "Loading GloVe embeddings...\n",
            "Found 400000 word vectors in GloVe.\n",
            "Embedding matrix created. 42566/50000 words found in GloVe.\n"
          ]
        }
      ]
    },
    {
      "cell_type": "markdown",
      "source": [
        "# Split Data"
      ],
      "metadata": {
        "id": "sGRnjJmvo5DR"
      }
    },
    {
      "cell_type": "code",
      "source": [
        "# Split into training + validation and a final hold-out test set\n",
        "X_train_val, X_test_final, y_train_val, y_test_final = train_test_split(\n",
        "    padded_sequences, labels_final, test_size=0.20, random_state=42, stratify=labels_final # 20% for final test\n",
        ")"
      ],
      "metadata": {
        "id": "bwTOS7hno6QP"
      },
      "execution_count": 75,
      "outputs": []
    },
    {
      "cell_type": "code",
      "source": [
        "# Split training+validation into actual training and validation for KerasTuner\n",
        "X_train, X_val, y_train, y_val = train_test_split(\n",
        "    X_train_val, y_train_val, test_size=0.15, random_state=42, stratify=y_train_val # 15% of (80%) for validation\n",
        ")"
      ],
      "metadata": {
        "id": "tsxhwpSCpJ1t"
      },
      "execution_count": 76,
      "outputs": []
    },
    {
      "cell_type": "code",
      "source": [
        "print(f\"\\nData shapes:\")\n",
        "print(f\"X_train shape: {X_train.shape}, y_train shape: {y_train.shape}\")\n",
        "print(f\"X_val shape: {X_val.shape}, y_val shape: {y_val.shape}\")\n",
        "print(f\"X_test_final shape: {X_test_final.shape}, y_test_final shape: {y_test_final.shape}\")"
      ],
      "metadata": {
        "colab": {
          "base_uri": "https://localhost:8080/"
        },
        "id": "Z2N4Ivf9qDT0",
        "outputId": "de60fd43-9728-4940-e414-bcd0fa347636"
      },
      "execution_count": 77,
      "outputs": [
        {
          "output_type": "stream",
          "name": "stdout",
          "text": [
            "\n",
            "Data shapes:\n",
            "X_train shape: (48754, 300), y_train shape: (48754,)\n",
            "X_val shape: (8604, 300), y_val shape: (8604,)\n",
            "X_test_final shape: (14340, 300), y_test_final shape: (14340,)\n"
          ]
        }
      ]
    },
    {
      "cell_type": "markdown",
      "source": [
        "# Hyperparameter Tuning with KerasTuner"
      ],
      "metadata": {
        "id": "UXlFrD6yqIVP"
      }
    },
    {
      "cell_type": "code",
      "source": [
        "def build_bilstm_model(hp):\n",
        "    model = Sequential()\n",
        "\n",
        "    # Embedding Layer\n",
        "    use_pretrained_embedding = (embedding_matrix is not None)\n",
        "    is_embedding_trainable = hp.Boolean(\"embedding_trainable\", default=False if use_pretrained_embedding else True)\n",
        "\n",
        "    if use_pretrained_embedding:\n",
        "        model.add(Embedding(\n",
        "            input_dim=min(MAX_NUM_WORDS, len(word_index) + 1),\n",
        "            output_dim=EMBEDDING_DIM,\n",
        "            weights=[embedding_matrix],\n",
        "            input_length=MAX_SEQUENCE_LENGTH,\n",
        "            trainable=is_embedding_trainable\n",
        "        ))\n",
        "    else: # No GloVe, learn embeddings from scratch\n",
        "         model.add(Embedding(\n",
        "            input_dim=min(MAX_NUM_WORDS, len(word_index) + 1),\n",
        "            output_dim=hp.Int(\"embedding_dim_scratch\", min_value=50, max_value=200, step=50), # Tune embedding dim if from scratch\n",
        "            input_length=MAX_SEQUENCE_LENGTH,\n",
        "            trainable=True # Must be trainable if from scratch\n",
        "        ))\n",
        "\n",
        "    model.add(SpatialDropout1D(hp.Float(\"spatial_dropout\", min_value=0.1, max_value=0.4, step=0.1)))\n",
        "\n",
        "    # BiLSTM Layers\n",
        "    num_lstm_layers = hp.Int(\"num_lstm_layers\", min_value=1, max_value=2, step=1)\n",
        "    for i in range(num_lstm_layers):\n",
        "        model.add(Bidirectional(LSTM(\n",
        "            units=hp.Int(f\"lstm_{i}_units\", min_value=32, max_value=128, step=32),\n",
        "            return_sequences= (i < num_lstm_layers - 1), # True for all but last LSTM layer\n",
        "            dropout=hp.Float(f\"lstm_{i}_dropout\", min_value=0.1, max_value=0.4, step=0.1),\n",
        "            recurrent_dropout=hp.Float(f\"lstm_{i}_recurrent_dropout\", min_value=0.1, max_value=0.4, step=0.1)\n",
        "        )))\n",
        "\n",
        "    # Dense Layers\n",
        "    model.add(Dense(\n",
        "        units=hp.Int(\"dense_units\", min_value=32, max_value=128, step=32),\n",
        "        activation='relu'\n",
        "    ))\n",
        "    model.add(Dropout(hp.Float(\"dense_dropout\", min_value=0.2, max_value=0.5, step=0.1)))\n",
        "    model.add(Dense(1, activation='sigmoid'))\n",
        "\n",
        "    # Optimizer\n",
        "    lr = hp.Float(\"learning_rate\", min_value=1e-4, max_value=1e-2, sampling=\"log\")\n",
        "    model.compile(\n",
        "        optimizer=Adam(learning_rate=lr),\n",
        "        loss='binary_crossentropy',\n",
        "        metrics=['accuracy']\n",
        "    )\n",
        "    return model"
      ],
      "metadata": {
        "id": "Be2HzqU0qJzf"
      },
      "execution_count": 78,
      "outputs": []
    },
    {
      "cell_type": "code",
      "source": [
        "# Instantiate the tuner\n",
        "# Using Hyperband for potentially faster search than RandomSearch\n",
        "tuner = kt.Hyperband( # Or kt.RandomSearch\n",
        "    build_bilstm_model,\n",
        "    objective='val_accuracy',\n",
        "    max_epochs=5,          # Max epochs to train a model for during hyperband rounds\n",
        "    factor=3,               # Reduction factor for Hyperband\n",
        "    hyperband_iterations=1, # How many times to run Hyperband, can increase for more thorough search\n",
        "    directory='keras_tuner_bilstm_dir',\n",
        "    project_name='fake_news_detection',\n",
        "    seed=42,\n",
        "    overwrite=True # Set to False to resume a previous search\n",
        ")\n",
        "\n",
        "print(\"\\nStarting hyperparameter search with KerasTuner...\")\n",
        "tuner.search_space_summary()"
      ],
      "metadata": {
        "colab": {
          "base_uri": "https://localhost:8080/"
        },
        "id": "1hAmN_wnqsuR",
        "outputId": "6f853aab-c1db-4eaf-a844-474e9c1b1724"
      },
      "execution_count": 104,
      "outputs": [
        {
          "output_type": "stream",
          "name": "stdout",
          "text": [
            "\n",
            "Starting hyperparameter search with KerasTuner...\n",
            "Search space summary\n",
            "Default search space size: 9\n",
            "embedding_trainable (Boolean)\n",
            "{'default': False, 'conditions': []}\n",
            "spatial_dropout (Float)\n",
            "{'default': 0.1, 'conditions': [], 'min_value': 0.1, 'max_value': 0.4, 'step': 0.1, 'sampling': 'linear'}\n",
            "num_lstm_layers (Int)\n",
            "{'default': None, 'conditions': [], 'min_value': 1, 'max_value': 2, 'step': 1, 'sampling': 'linear'}\n",
            "lstm_0_units (Int)\n",
            "{'default': None, 'conditions': [], 'min_value': 32, 'max_value': 128, 'step': 32, 'sampling': 'linear'}\n",
            "lstm_0_dropout (Float)\n",
            "{'default': 0.1, 'conditions': [], 'min_value': 0.1, 'max_value': 0.4, 'step': 0.1, 'sampling': 'linear'}\n",
            "lstm_0_recurrent_dropout (Float)\n",
            "{'default': 0.1, 'conditions': [], 'min_value': 0.1, 'max_value': 0.4, 'step': 0.1, 'sampling': 'linear'}\n",
            "dense_units (Int)\n",
            "{'default': None, 'conditions': [], 'min_value': 32, 'max_value': 128, 'step': 32, 'sampling': 'linear'}\n",
            "dense_dropout (Float)\n",
            "{'default': 0.2, 'conditions': [], 'min_value': 0.2, 'max_value': 0.5, 'step': 0.1, 'sampling': 'linear'}\n",
            "learning_rate (Float)\n",
            "{'default': 0.0001, 'conditions': [], 'min_value': 0.0001, 'max_value': 0.01, 'step': None, 'sampling': 'log'}\n"
          ]
        },
        {
          "output_type": "stream",
          "name": "stderr",
          "text": [
            "/usr/local/lib/python3.11/dist-packages/keras/src/layers/core/embedding.py:90: UserWarning: Argument `input_length` is deprecated. Just remove it.\n",
            "  warnings.warn(\n"
          ]
        }
      ]
    },
    {
      "cell_type": "code",
      "source": [
        "# Early stopping for the tuner search itself, to speed up individual trials\n",
        "tuner_early_stopping = EarlyStopping(monitor='val_loss', patience=3, restore_best_weights=True)"
      ],
      "metadata": {
        "id": "uh0dbmRHquBT"
      },
      "execution_count": 101,
      "outputs": []
    },
    {
      "cell_type": "code",
      "source": [
        "# Reduce batch size for tuning if memory is an issue, or use a default\n",
        "TUNER_BATCH_SIZE = 64"
      ],
      "metadata": {
        "id": "cyxBo-Prr2WA"
      },
      "execution_count": 102,
      "outputs": []
    },
    {
      "cell_type": "code",
      "source": [
        "tuner.search(X_train, y_train,\n",
        "             validation_data=(X_val, y_val),\n",
        "             callbacks=[tuner_early_stopping],\n",
        "             batch_size=TUNER_BATCH_SIZE\n",
        "            )"
      ],
      "metadata": {
        "colab": {
          "base_uri": "https://localhost:8080/",
          "height": 720
        },
        "id": "mYHaJfJPr26C",
        "outputId": "0e6abf73-f0c6-4fe2-ce51-7f2778324a53"
      },
      "execution_count": 103,
      "outputs": [
        {
          "output_type": "stream",
          "name": "stdout",
          "text": [
            "\n",
            "Search: Running Trial #1\n",
            "\n",
            "Value             |Best Value So Far |Hyperparameter\n",
            "True              |True              |embedding_trainable\n",
            "0.1               |0.1               |spatial_dropout\n",
            "1                 |1                 |num_lstm_layers\n",
            "64                |64                |lstm_0_units\n",
            "0.4               |0.4               |lstm_0_dropout\n",
            "0.2               |0.2               |lstm_0_recurrent_dropout\n",
            "96                |96                |dense_units\n",
            "0.2               |0.2               |dense_dropout\n",
            "0.00098872        |0.00098872        |learning_rate\n",
            "1                 |1                 |tuner/epochs\n",
            "0                 |0                 |tuner/initial_epoch\n",
            "0                 |0                 |tuner/bracket\n",
            "0                 |0                 |tuner/round\n",
            "\n"
          ]
        },
        {
          "output_type": "stream",
          "name": "stderr",
          "text": [
            "/usr/local/lib/python3.11/dist-packages/keras/src/layers/core/embedding.py:90: UserWarning: Argument `input_length` is deprecated. Just remove it.\n",
            "  warnings.warn(\n"
          ]
        },
        {
          "output_type": "stream",
          "name": "stdout",
          "text": [
            "\u001b[1m 40/762\u001b[0m \u001b[32m━\u001b[0m\u001b[37m━━━━━━━━━━━━━━━━━━━\u001b[0m \u001b[1m15:35\u001b[0m 1s/step - accuracy: 0.5707 - loss: 0.6761"
          ]
        },
        {
          "output_type": "error",
          "ename": "KeyboardInterrupt",
          "evalue": "",
          "traceback": [
            "\u001b[0;31m---------------------------------------------------------------------------\u001b[0m",
            "\u001b[0;31mKeyboardInterrupt\u001b[0m                         Traceback (most recent call last)",
            "\u001b[0;32m<ipython-input-103-3516539389>\u001b[0m in \u001b[0;36m<cell line: 0>\u001b[0;34m()\u001b[0m\n\u001b[0;32m----> 1\u001b[0;31m tuner.search(X_train, y_train,\n\u001b[0m\u001b[1;32m      2\u001b[0m              \u001b[0mvalidation_data\u001b[0m\u001b[0;34m=\u001b[0m\u001b[0;34m(\u001b[0m\u001b[0mX_val\u001b[0m\u001b[0;34m,\u001b[0m \u001b[0my_val\u001b[0m\u001b[0;34m)\u001b[0m\u001b[0;34m,\u001b[0m\u001b[0;34m\u001b[0m\u001b[0;34m\u001b[0m\u001b[0m\n\u001b[1;32m      3\u001b[0m              \u001b[0mcallbacks\u001b[0m\u001b[0;34m=\u001b[0m\u001b[0;34m[\u001b[0m\u001b[0mtuner_early_stopping\u001b[0m\u001b[0;34m]\u001b[0m\u001b[0;34m,\u001b[0m\u001b[0;34m\u001b[0m\u001b[0;34m\u001b[0m\u001b[0m\n\u001b[1;32m      4\u001b[0m              \u001b[0mbatch_size\u001b[0m\u001b[0;34m=\u001b[0m\u001b[0mTUNER_BATCH_SIZE\u001b[0m\u001b[0;34m\u001b[0m\u001b[0;34m\u001b[0m\u001b[0m\n\u001b[1;32m      5\u001b[0m             )\n",
            "\u001b[0;32m/usr/local/lib/python3.11/dist-packages/keras_tuner/src/engine/base_tuner.py\u001b[0m in \u001b[0;36msearch\u001b[0;34m(self, *fit_args, **fit_kwargs)\u001b[0m\n\u001b[1;32m    232\u001b[0m \u001b[0;34m\u001b[0m\u001b[0m\n\u001b[1;32m    233\u001b[0m             \u001b[0mself\u001b[0m\u001b[0;34m.\u001b[0m\u001b[0mon_trial_begin\u001b[0m\u001b[0;34m(\u001b[0m\u001b[0mtrial\u001b[0m\u001b[0;34m)\u001b[0m\u001b[0;34m\u001b[0m\u001b[0;34m\u001b[0m\u001b[0m\n\u001b[0;32m--> 234\u001b[0;31m             \u001b[0mself\u001b[0m\u001b[0;34m.\u001b[0m\u001b[0m_try_run_and_update_trial\u001b[0m\u001b[0;34m(\u001b[0m\u001b[0mtrial\u001b[0m\u001b[0;34m,\u001b[0m \u001b[0;34m*\u001b[0m\u001b[0mfit_args\u001b[0m\u001b[0;34m,\u001b[0m \u001b[0;34m**\u001b[0m\u001b[0mfit_kwargs\u001b[0m\u001b[0;34m)\u001b[0m\u001b[0;34m\u001b[0m\u001b[0;34m\u001b[0m\u001b[0m\n\u001b[0m\u001b[1;32m    235\u001b[0m             \u001b[0mself\u001b[0m\u001b[0;34m.\u001b[0m\u001b[0mon_trial_end\u001b[0m\u001b[0;34m(\u001b[0m\u001b[0mtrial\u001b[0m\u001b[0;34m)\u001b[0m\u001b[0;34m\u001b[0m\u001b[0;34m\u001b[0m\u001b[0m\n\u001b[1;32m    236\u001b[0m         \u001b[0mself\u001b[0m\u001b[0;34m.\u001b[0m\u001b[0mon_search_end\u001b[0m\u001b[0;34m(\u001b[0m\u001b[0;34m)\u001b[0m\u001b[0;34m\u001b[0m\u001b[0;34m\u001b[0m\u001b[0m\n",
            "\u001b[0;32m/usr/local/lib/python3.11/dist-packages/keras_tuner/src/engine/base_tuner.py\u001b[0m in \u001b[0;36m_try_run_and_update_trial\u001b[0;34m(self, trial, *fit_args, **fit_kwargs)\u001b[0m\n\u001b[1;32m    272\u001b[0m     \u001b[0;32mdef\u001b[0m \u001b[0m_try_run_and_update_trial\u001b[0m\u001b[0;34m(\u001b[0m\u001b[0mself\u001b[0m\u001b[0;34m,\u001b[0m \u001b[0mtrial\u001b[0m\u001b[0;34m,\u001b[0m \u001b[0;34m*\u001b[0m\u001b[0mfit_args\u001b[0m\u001b[0;34m,\u001b[0m \u001b[0;34m**\u001b[0m\u001b[0mfit_kwargs\u001b[0m\u001b[0;34m)\u001b[0m\u001b[0;34m:\u001b[0m\u001b[0;34m\u001b[0m\u001b[0;34m\u001b[0m\u001b[0m\n\u001b[1;32m    273\u001b[0m         \u001b[0;32mtry\u001b[0m\u001b[0;34m:\u001b[0m\u001b[0;34m\u001b[0m\u001b[0;34m\u001b[0m\u001b[0m\n\u001b[0;32m--> 274\u001b[0;31m             \u001b[0mself\u001b[0m\u001b[0;34m.\u001b[0m\u001b[0m_run_and_update_trial\u001b[0m\u001b[0;34m(\u001b[0m\u001b[0mtrial\u001b[0m\u001b[0;34m,\u001b[0m \u001b[0;34m*\u001b[0m\u001b[0mfit_args\u001b[0m\u001b[0;34m,\u001b[0m \u001b[0;34m**\u001b[0m\u001b[0mfit_kwargs\u001b[0m\u001b[0;34m)\u001b[0m\u001b[0;34m\u001b[0m\u001b[0;34m\u001b[0m\u001b[0m\n\u001b[0m\u001b[1;32m    275\u001b[0m             \u001b[0mtrial\u001b[0m\u001b[0;34m.\u001b[0m\u001b[0mstatus\u001b[0m \u001b[0;34m=\u001b[0m \u001b[0mtrial_module\u001b[0m\u001b[0;34m.\u001b[0m\u001b[0mTrialStatus\u001b[0m\u001b[0;34m.\u001b[0m\u001b[0mCOMPLETED\u001b[0m\u001b[0;34m\u001b[0m\u001b[0;34m\u001b[0m\u001b[0m\n\u001b[1;32m    276\u001b[0m             \u001b[0;32mreturn\u001b[0m\u001b[0;34m\u001b[0m\u001b[0;34m\u001b[0m\u001b[0m\n",
            "\u001b[0;32m/usr/local/lib/python3.11/dist-packages/keras_tuner/src/engine/base_tuner.py\u001b[0m in \u001b[0;36m_run_and_update_trial\u001b[0;34m(self, trial, *fit_args, **fit_kwargs)\u001b[0m\n\u001b[1;32m    237\u001b[0m \u001b[0;34m\u001b[0m\u001b[0m\n\u001b[1;32m    238\u001b[0m     \u001b[0;32mdef\u001b[0m \u001b[0m_run_and_update_trial\u001b[0m\u001b[0;34m(\u001b[0m\u001b[0mself\u001b[0m\u001b[0;34m,\u001b[0m \u001b[0mtrial\u001b[0m\u001b[0;34m,\u001b[0m \u001b[0;34m*\u001b[0m\u001b[0mfit_args\u001b[0m\u001b[0;34m,\u001b[0m \u001b[0;34m**\u001b[0m\u001b[0mfit_kwargs\u001b[0m\u001b[0;34m)\u001b[0m\u001b[0;34m:\u001b[0m\u001b[0;34m\u001b[0m\u001b[0;34m\u001b[0m\u001b[0m\n\u001b[0;32m--> 239\u001b[0;31m         \u001b[0mresults\u001b[0m \u001b[0;34m=\u001b[0m \u001b[0mself\u001b[0m\u001b[0;34m.\u001b[0m\u001b[0mrun_trial\u001b[0m\u001b[0;34m(\u001b[0m\u001b[0mtrial\u001b[0m\u001b[0;34m,\u001b[0m \u001b[0;34m*\u001b[0m\u001b[0mfit_args\u001b[0m\u001b[0;34m,\u001b[0m \u001b[0;34m**\u001b[0m\u001b[0mfit_kwargs\u001b[0m\u001b[0;34m)\u001b[0m\u001b[0;34m\u001b[0m\u001b[0;34m\u001b[0m\u001b[0m\n\u001b[0m\u001b[1;32m    240\u001b[0m         if self.oracle.get_trial(trial.trial_id).metrics.exists(\n\u001b[1;32m    241\u001b[0m             \u001b[0mself\u001b[0m\u001b[0;34m.\u001b[0m\u001b[0moracle\u001b[0m\u001b[0;34m.\u001b[0m\u001b[0mobjective\u001b[0m\u001b[0;34m.\u001b[0m\u001b[0mname\u001b[0m\u001b[0;34m\u001b[0m\u001b[0;34m\u001b[0m\u001b[0m\n",
            "\u001b[0;32m/usr/local/lib/python3.11/dist-packages/keras_tuner/src/tuners/hyperband.py\u001b[0m in \u001b[0;36mrun_trial\u001b[0;34m(self, trial, *fit_args, **fit_kwargs)\u001b[0m\n\u001b[1;32m    425\u001b[0m             \u001b[0mfit_kwargs\u001b[0m\u001b[0;34m[\u001b[0m\u001b[0;34m\"epochs\"\u001b[0m\u001b[0;34m]\u001b[0m \u001b[0;34m=\u001b[0m \u001b[0mhp\u001b[0m\u001b[0;34m.\u001b[0m\u001b[0mvalues\u001b[0m\u001b[0;34m[\u001b[0m\u001b[0;34m\"tuner/epochs\"\u001b[0m\u001b[0;34m]\u001b[0m\u001b[0;34m\u001b[0m\u001b[0;34m\u001b[0m\u001b[0m\n\u001b[1;32m    426\u001b[0m             \u001b[0mfit_kwargs\u001b[0m\u001b[0;34m[\u001b[0m\u001b[0;34m\"initial_epoch\"\u001b[0m\u001b[0;34m]\u001b[0m \u001b[0;34m=\u001b[0m \u001b[0mhp\u001b[0m\u001b[0;34m.\u001b[0m\u001b[0mvalues\u001b[0m\u001b[0;34m[\u001b[0m\u001b[0;34m\"tuner/initial_epoch\"\u001b[0m\u001b[0;34m]\u001b[0m\u001b[0;34m\u001b[0m\u001b[0;34m\u001b[0m\u001b[0m\n\u001b[0;32m--> 427\u001b[0;31m         \u001b[0;32mreturn\u001b[0m \u001b[0msuper\u001b[0m\u001b[0;34m(\u001b[0m\u001b[0;34m)\u001b[0m\u001b[0;34m.\u001b[0m\u001b[0mrun_trial\u001b[0m\u001b[0;34m(\u001b[0m\u001b[0mtrial\u001b[0m\u001b[0;34m,\u001b[0m \u001b[0;34m*\u001b[0m\u001b[0mfit_args\u001b[0m\u001b[0;34m,\u001b[0m \u001b[0;34m**\u001b[0m\u001b[0mfit_kwargs\u001b[0m\u001b[0;34m)\u001b[0m\u001b[0;34m\u001b[0m\u001b[0;34m\u001b[0m\u001b[0m\n\u001b[0m\u001b[1;32m    428\u001b[0m \u001b[0;34m\u001b[0m\u001b[0m\n\u001b[1;32m    429\u001b[0m     \u001b[0;32mdef\u001b[0m \u001b[0m_build_hypermodel\u001b[0m\u001b[0;34m(\u001b[0m\u001b[0mself\u001b[0m\u001b[0;34m,\u001b[0m \u001b[0mhp\u001b[0m\u001b[0;34m)\u001b[0m\u001b[0;34m:\u001b[0m\u001b[0;34m\u001b[0m\u001b[0;34m\u001b[0m\u001b[0m\n",
            "\u001b[0;32m/usr/local/lib/python3.11/dist-packages/keras_tuner/src/engine/tuner.py\u001b[0m in \u001b[0;36mrun_trial\u001b[0;34m(self, trial, *args, **kwargs)\u001b[0m\n\u001b[1;32m    312\u001b[0m             \u001b[0mcallbacks\u001b[0m\u001b[0;34m.\u001b[0m\u001b[0mappend\u001b[0m\u001b[0;34m(\u001b[0m\u001b[0mmodel_checkpoint\u001b[0m\u001b[0;34m)\u001b[0m\u001b[0;34m\u001b[0m\u001b[0;34m\u001b[0m\u001b[0m\n\u001b[1;32m    313\u001b[0m             \u001b[0mcopied_kwargs\u001b[0m\u001b[0;34m[\u001b[0m\u001b[0;34m\"callbacks\"\u001b[0m\u001b[0;34m]\u001b[0m \u001b[0;34m=\u001b[0m \u001b[0mcallbacks\u001b[0m\u001b[0;34m\u001b[0m\u001b[0;34m\u001b[0m\u001b[0m\n\u001b[0;32m--> 314\u001b[0;31m             \u001b[0mobj_value\u001b[0m \u001b[0;34m=\u001b[0m \u001b[0mself\u001b[0m\u001b[0;34m.\u001b[0m\u001b[0m_build_and_fit_model\u001b[0m\u001b[0;34m(\u001b[0m\u001b[0mtrial\u001b[0m\u001b[0;34m,\u001b[0m \u001b[0;34m*\u001b[0m\u001b[0margs\u001b[0m\u001b[0;34m,\u001b[0m \u001b[0;34m**\u001b[0m\u001b[0mcopied_kwargs\u001b[0m\u001b[0;34m)\u001b[0m\u001b[0;34m\u001b[0m\u001b[0;34m\u001b[0m\u001b[0m\n\u001b[0m\u001b[1;32m    315\u001b[0m \u001b[0;34m\u001b[0m\u001b[0m\n\u001b[1;32m    316\u001b[0m             \u001b[0mhistories\u001b[0m\u001b[0;34m.\u001b[0m\u001b[0mappend\u001b[0m\u001b[0;34m(\u001b[0m\u001b[0mobj_value\u001b[0m\u001b[0;34m)\u001b[0m\u001b[0;34m\u001b[0m\u001b[0;34m\u001b[0m\u001b[0m\n",
            "\u001b[0;32m/usr/local/lib/python3.11/dist-packages/keras_tuner/src/engine/tuner.py\u001b[0m in \u001b[0;36m_build_and_fit_model\u001b[0;34m(self, trial, *args, **kwargs)\u001b[0m\n\u001b[1;32m    231\u001b[0m         \u001b[0mhp\u001b[0m \u001b[0;34m=\u001b[0m \u001b[0mtrial\u001b[0m\u001b[0;34m.\u001b[0m\u001b[0mhyperparameters\u001b[0m\u001b[0;34m\u001b[0m\u001b[0;34m\u001b[0m\u001b[0m\n\u001b[1;32m    232\u001b[0m         \u001b[0mmodel\u001b[0m \u001b[0;34m=\u001b[0m \u001b[0mself\u001b[0m\u001b[0;34m.\u001b[0m\u001b[0m_try_build\u001b[0m\u001b[0;34m(\u001b[0m\u001b[0mhp\u001b[0m\u001b[0;34m)\u001b[0m\u001b[0;34m\u001b[0m\u001b[0;34m\u001b[0m\u001b[0m\n\u001b[0;32m--> 233\u001b[0;31m         \u001b[0mresults\u001b[0m \u001b[0;34m=\u001b[0m \u001b[0mself\u001b[0m\u001b[0;34m.\u001b[0m\u001b[0mhypermodel\u001b[0m\u001b[0;34m.\u001b[0m\u001b[0mfit\u001b[0m\u001b[0;34m(\u001b[0m\u001b[0mhp\u001b[0m\u001b[0;34m,\u001b[0m \u001b[0mmodel\u001b[0m\u001b[0;34m,\u001b[0m \u001b[0;34m*\u001b[0m\u001b[0margs\u001b[0m\u001b[0;34m,\u001b[0m \u001b[0;34m**\u001b[0m\u001b[0mkwargs\u001b[0m\u001b[0;34m)\u001b[0m\u001b[0;34m\u001b[0m\u001b[0;34m\u001b[0m\u001b[0m\n\u001b[0m\u001b[1;32m    234\u001b[0m \u001b[0;34m\u001b[0m\u001b[0m\n\u001b[1;32m    235\u001b[0m         \u001b[0;31m# Save the build config for model loading later.\u001b[0m\u001b[0;34m\u001b[0m\u001b[0;34m\u001b[0m\u001b[0m\n",
            "\u001b[0;32m/usr/local/lib/python3.11/dist-packages/keras_tuner/src/engine/hypermodel.py\u001b[0m in \u001b[0;36mfit\u001b[0;34m(self, hp, model, *args, **kwargs)\u001b[0m\n\u001b[1;32m    147\u001b[0m             \u001b[0mIf\u001b[0m \u001b[0;32mreturn\u001b[0m \u001b[0ma\u001b[0m \u001b[0mfloat\u001b[0m\u001b[0;34m,\u001b[0m \u001b[0mit\u001b[0m \u001b[0mshould\u001b[0m \u001b[0mbe\u001b[0m \u001b[0mthe\u001b[0m\u001b[0;31m \u001b[0m\u001b[0;31m`\u001b[0m\u001b[0mobjective\u001b[0m\u001b[0;31m`\u001b[0m \u001b[0mvalue\u001b[0m\u001b[0;34m.\u001b[0m\u001b[0;34m\u001b[0m\u001b[0;34m\u001b[0m\u001b[0m\n\u001b[1;32m    148\u001b[0m         \"\"\"\n\u001b[0;32m--> 149\u001b[0;31m         \u001b[0;32mreturn\u001b[0m \u001b[0mmodel\u001b[0m\u001b[0;34m.\u001b[0m\u001b[0mfit\u001b[0m\u001b[0;34m(\u001b[0m\u001b[0;34m*\u001b[0m\u001b[0margs\u001b[0m\u001b[0;34m,\u001b[0m \u001b[0;34m**\u001b[0m\u001b[0mkwargs\u001b[0m\u001b[0;34m)\u001b[0m\u001b[0;34m\u001b[0m\u001b[0;34m\u001b[0m\u001b[0m\n\u001b[0m\u001b[1;32m    150\u001b[0m \u001b[0;34m\u001b[0m\u001b[0m\n\u001b[1;32m    151\u001b[0m \u001b[0;34m\u001b[0m\u001b[0m\n",
            "\u001b[0;32m/usr/local/lib/python3.11/dist-packages/keras/src/utils/traceback_utils.py\u001b[0m in \u001b[0;36merror_handler\u001b[0;34m(*args, **kwargs)\u001b[0m\n\u001b[1;32m    115\u001b[0m         \u001b[0mfiltered_tb\u001b[0m \u001b[0;34m=\u001b[0m \u001b[0;32mNone\u001b[0m\u001b[0;34m\u001b[0m\u001b[0;34m\u001b[0m\u001b[0m\n\u001b[1;32m    116\u001b[0m         \u001b[0;32mtry\u001b[0m\u001b[0;34m:\u001b[0m\u001b[0;34m\u001b[0m\u001b[0;34m\u001b[0m\u001b[0m\n\u001b[0;32m--> 117\u001b[0;31m             \u001b[0;32mreturn\u001b[0m \u001b[0mfn\u001b[0m\u001b[0;34m(\u001b[0m\u001b[0;34m*\u001b[0m\u001b[0margs\u001b[0m\u001b[0;34m,\u001b[0m \u001b[0;34m**\u001b[0m\u001b[0mkwargs\u001b[0m\u001b[0;34m)\u001b[0m\u001b[0;34m\u001b[0m\u001b[0;34m\u001b[0m\u001b[0m\n\u001b[0m\u001b[1;32m    118\u001b[0m         \u001b[0;32mexcept\u001b[0m \u001b[0mException\u001b[0m \u001b[0;32mas\u001b[0m \u001b[0me\u001b[0m\u001b[0;34m:\u001b[0m\u001b[0;34m\u001b[0m\u001b[0;34m\u001b[0m\u001b[0m\n\u001b[1;32m    119\u001b[0m             \u001b[0mfiltered_tb\u001b[0m \u001b[0;34m=\u001b[0m \u001b[0m_process_traceback_frames\u001b[0m\u001b[0;34m(\u001b[0m\u001b[0me\u001b[0m\u001b[0;34m.\u001b[0m\u001b[0m__traceback__\u001b[0m\u001b[0;34m)\u001b[0m\u001b[0;34m\u001b[0m\u001b[0;34m\u001b[0m\u001b[0m\n",
            "\u001b[0;32m/usr/local/lib/python3.11/dist-packages/keras/src/backend/tensorflow/trainer.py\u001b[0m in \u001b[0;36mfit\u001b[0;34m(self, x, y, batch_size, epochs, verbose, callbacks, validation_split, validation_data, shuffle, class_weight, sample_weight, initial_epoch, steps_per_epoch, validation_steps, validation_batch_size, validation_freq)\u001b[0m\n\u001b[1;32m    369\u001b[0m                 \u001b[0;32mfor\u001b[0m \u001b[0mstep\u001b[0m\u001b[0;34m,\u001b[0m \u001b[0miterator\u001b[0m \u001b[0;32min\u001b[0m \u001b[0mepoch_iterator\u001b[0m\u001b[0;34m:\u001b[0m\u001b[0;34m\u001b[0m\u001b[0;34m\u001b[0m\u001b[0m\n\u001b[1;32m    370\u001b[0m                     \u001b[0mcallbacks\u001b[0m\u001b[0;34m.\u001b[0m\u001b[0mon_train_batch_begin\u001b[0m\u001b[0;34m(\u001b[0m\u001b[0mstep\u001b[0m\u001b[0;34m)\u001b[0m\u001b[0;34m\u001b[0m\u001b[0;34m\u001b[0m\u001b[0m\n\u001b[0;32m--> 371\u001b[0;31m                     \u001b[0mlogs\u001b[0m \u001b[0;34m=\u001b[0m \u001b[0mself\u001b[0m\u001b[0;34m.\u001b[0m\u001b[0mtrain_function\u001b[0m\u001b[0;34m(\u001b[0m\u001b[0miterator\u001b[0m\u001b[0;34m)\u001b[0m\u001b[0;34m\u001b[0m\u001b[0;34m\u001b[0m\u001b[0m\n\u001b[0m\u001b[1;32m    372\u001b[0m                     \u001b[0mcallbacks\u001b[0m\u001b[0;34m.\u001b[0m\u001b[0mon_train_batch_end\u001b[0m\u001b[0;34m(\u001b[0m\u001b[0mstep\u001b[0m\u001b[0;34m,\u001b[0m \u001b[0mlogs\u001b[0m\u001b[0;34m)\u001b[0m\u001b[0;34m\u001b[0m\u001b[0;34m\u001b[0m\u001b[0m\n\u001b[1;32m    373\u001b[0m                     \u001b[0;32mif\u001b[0m \u001b[0mself\u001b[0m\u001b[0;34m.\u001b[0m\u001b[0mstop_training\u001b[0m\u001b[0;34m:\u001b[0m\u001b[0;34m\u001b[0m\u001b[0;34m\u001b[0m\u001b[0m\n",
            "\u001b[0;32m/usr/local/lib/python3.11/dist-packages/keras/src/backend/tensorflow/trainer.py\u001b[0m in \u001b[0;36mfunction\u001b[0;34m(iterator)\u001b[0m\n\u001b[1;32m    217\u001b[0m                 \u001b[0miterator\u001b[0m\u001b[0;34m,\u001b[0m \u001b[0;34m(\u001b[0m\u001b[0mtf\u001b[0m\u001b[0;34m.\u001b[0m\u001b[0mdata\u001b[0m\u001b[0;34m.\u001b[0m\u001b[0mIterator\u001b[0m\u001b[0;34m,\u001b[0m \u001b[0mtf\u001b[0m\u001b[0;34m.\u001b[0m\u001b[0mdistribute\u001b[0m\u001b[0;34m.\u001b[0m\u001b[0mDistributedIterator\u001b[0m\u001b[0;34m)\u001b[0m\u001b[0;34m\u001b[0m\u001b[0;34m\u001b[0m\u001b[0m\n\u001b[1;32m    218\u001b[0m             ):\n\u001b[0;32m--> 219\u001b[0;31m                 \u001b[0mopt_outputs\u001b[0m \u001b[0;34m=\u001b[0m \u001b[0mmulti_step_on_iterator\u001b[0m\u001b[0;34m(\u001b[0m\u001b[0miterator\u001b[0m\u001b[0;34m)\u001b[0m\u001b[0;34m\u001b[0m\u001b[0;34m\u001b[0m\u001b[0m\n\u001b[0m\u001b[1;32m    220\u001b[0m                 \u001b[0;32mif\u001b[0m \u001b[0;32mnot\u001b[0m \u001b[0mopt_outputs\u001b[0m\u001b[0;34m.\u001b[0m\u001b[0mhas_value\u001b[0m\u001b[0;34m(\u001b[0m\u001b[0;34m)\u001b[0m\u001b[0;34m:\u001b[0m\u001b[0;34m\u001b[0m\u001b[0;34m\u001b[0m\u001b[0m\n\u001b[1;32m    221\u001b[0m                     \u001b[0;32mraise\u001b[0m \u001b[0mStopIteration\u001b[0m\u001b[0;34m\u001b[0m\u001b[0;34m\u001b[0m\u001b[0m\n",
            "\u001b[0;32m/usr/local/lib/python3.11/dist-packages/tensorflow/python/util/traceback_utils.py\u001b[0m in \u001b[0;36merror_handler\u001b[0;34m(*args, **kwargs)\u001b[0m\n\u001b[1;32m    148\u001b[0m     \u001b[0mfiltered_tb\u001b[0m \u001b[0;34m=\u001b[0m \u001b[0;32mNone\u001b[0m\u001b[0;34m\u001b[0m\u001b[0;34m\u001b[0m\u001b[0m\n\u001b[1;32m    149\u001b[0m     \u001b[0;32mtry\u001b[0m\u001b[0;34m:\u001b[0m\u001b[0;34m\u001b[0m\u001b[0;34m\u001b[0m\u001b[0m\n\u001b[0;32m--> 150\u001b[0;31m       \u001b[0;32mreturn\u001b[0m \u001b[0mfn\u001b[0m\u001b[0;34m(\u001b[0m\u001b[0;34m*\u001b[0m\u001b[0margs\u001b[0m\u001b[0;34m,\u001b[0m \u001b[0;34m**\u001b[0m\u001b[0mkwargs\u001b[0m\u001b[0;34m)\u001b[0m\u001b[0;34m\u001b[0m\u001b[0;34m\u001b[0m\u001b[0m\n\u001b[0m\u001b[1;32m    151\u001b[0m     \u001b[0;32mexcept\u001b[0m \u001b[0mException\u001b[0m \u001b[0;32mas\u001b[0m \u001b[0me\u001b[0m\u001b[0;34m:\u001b[0m\u001b[0;34m\u001b[0m\u001b[0;34m\u001b[0m\u001b[0m\n\u001b[1;32m    152\u001b[0m       \u001b[0mfiltered_tb\u001b[0m \u001b[0;34m=\u001b[0m \u001b[0m_process_traceback_frames\u001b[0m\u001b[0;34m(\u001b[0m\u001b[0me\u001b[0m\u001b[0;34m.\u001b[0m\u001b[0m__traceback__\u001b[0m\u001b[0;34m)\u001b[0m\u001b[0;34m\u001b[0m\u001b[0;34m\u001b[0m\u001b[0m\n",
            "\u001b[0;32m/usr/local/lib/python3.11/dist-packages/tensorflow/python/eager/polymorphic_function/polymorphic_function.py\u001b[0m in \u001b[0;36m__call__\u001b[0;34m(self, *args, **kwds)\u001b[0m\n\u001b[1;32m    831\u001b[0m \u001b[0;34m\u001b[0m\u001b[0m\n\u001b[1;32m    832\u001b[0m       \u001b[0;32mwith\u001b[0m \u001b[0mOptionalXlaContext\u001b[0m\u001b[0;34m(\u001b[0m\u001b[0mself\u001b[0m\u001b[0;34m.\u001b[0m\u001b[0m_jit_compile\u001b[0m\u001b[0;34m)\u001b[0m\u001b[0;34m:\u001b[0m\u001b[0;34m\u001b[0m\u001b[0;34m\u001b[0m\u001b[0m\n\u001b[0;32m--> 833\u001b[0;31m         \u001b[0mresult\u001b[0m \u001b[0;34m=\u001b[0m \u001b[0mself\u001b[0m\u001b[0;34m.\u001b[0m\u001b[0m_call\u001b[0m\u001b[0;34m(\u001b[0m\u001b[0;34m*\u001b[0m\u001b[0margs\u001b[0m\u001b[0;34m,\u001b[0m \u001b[0;34m**\u001b[0m\u001b[0mkwds\u001b[0m\u001b[0;34m)\u001b[0m\u001b[0;34m\u001b[0m\u001b[0;34m\u001b[0m\u001b[0m\n\u001b[0m\u001b[1;32m    834\u001b[0m \u001b[0;34m\u001b[0m\u001b[0m\n\u001b[1;32m    835\u001b[0m       \u001b[0mnew_tracing_count\u001b[0m \u001b[0;34m=\u001b[0m \u001b[0mself\u001b[0m\u001b[0;34m.\u001b[0m\u001b[0mexperimental_get_tracing_count\u001b[0m\u001b[0;34m(\u001b[0m\u001b[0;34m)\u001b[0m\u001b[0;34m\u001b[0m\u001b[0;34m\u001b[0m\u001b[0m\n",
            "\u001b[0;32m/usr/local/lib/python3.11/dist-packages/tensorflow/python/eager/polymorphic_function/polymorphic_function.py\u001b[0m in \u001b[0;36m_call\u001b[0;34m(self, *args, **kwds)\u001b[0m\n\u001b[1;32m    876\u001b[0m       \u001b[0;31m# In this case we have not created variables on the first call. So we can\u001b[0m\u001b[0;34m\u001b[0m\u001b[0;34m\u001b[0m\u001b[0m\n\u001b[1;32m    877\u001b[0m       \u001b[0;31m# run the first trace but we should fail if variables are created.\u001b[0m\u001b[0;34m\u001b[0m\u001b[0;34m\u001b[0m\u001b[0m\n\u001b[0;32m--> 878\u001b[0;31m       results = tracing_compilation.call_function(\n\u001b[0m\u001b[1;32m    879\u001b[0m           \u001b[0margs\u001b[0m\u001b[0;34m,\u001b[0m \u001b[0mkwds\u001b[0m\u001b[0;34m,\u001b[0m \u001b[0mself\u001b[0m\u001b[0;34m.\u001b[0m\u001b[0m_variable_creation_config\u001b[0m\u001b[0;34m\u001b[0m\u001b[0;34m\u001b[0m\u001b[0m\n\u001b[1;32m    880\u001b[0m       )\n",
            "\u001b[0;32m/usr/local/lib/python3.11/dist-packages/tensorflow/python/eager/polymorphic_function/tracing_compilation.py\u001b[0m in \u001b[0;36mcall_function\u001b[0;34m(args, kwargs, tracing_options)\u001b[0m\n\u001b[1;32m    137\u001b[0m   \u001b[0mbound_args\u001b[0m \u001b[0;34m=\u001b[0m \u001b[0mfunction\u001b[0m\u001b[0;34m.\u001b[0m\u001b[0mfunction_type\u001b[0m\u001b[0;34m.\u001b[0m\u001b[0mbind\u001b[0m\u001b[0;34m(\u001b[0m\u001b[0;34m*\u001b[0m\u001b[0margs\u001b[0m\u001b[0;34m,\u001b[0m \u001b[0;34m**\u001b[0m\u001b[0mkwargs\u001b[0m\u001b[0;34m)\u001b[0m\u001b[0;34m\u001b[0m\u001b[0;34m\u001b[0m\u001b[0m\n\u001b[1;32m    138\u001b[0m   \u001b[0mflat_inputs\u001b[0m \u001b[0;34m=\u001b[0m \u001b[0mfunction\u001b[0m\u001b[0;34m.\u001b[0m\u001b[0mfunction_type\u001b[0m\u001b[0;34m.\u001b[0m\u001b[0munpack_inputs\u001b[0m\u001b[0;34m(\u001b[0m\u001b[0mbound_args\u001b[0m\u001b[0;34m)\u001b[0m\u001b[0;34m\u001b[0m\u001b[0;34m\u001b[0m\u001b[0m\n\u001b[0;32m--> 139\u001b[0;31m   return function._call_flat(  # pylint: disable=protected-access\n\u001b[0m\u001b[1;32m    140\u001b[0m       \u001b[0mflat_inputs\u001b[0m\u001b[0;34m,\u001b[0m \u001b[0mcaptured_inputs\u001b[0m\u001b[0;34m=\u001b[0m\u001b[0mfunction\u001b[0m\u001b[0;34m.\u001b[0m\u001b[0mcaptured_inputs\u001b[0m\u001b[0;34m\u001b[0m\u001b[0;34m\u001b[0m\u001b[0m\n\u001b[1;32m    141\u001b[0m   )\n",
            "\u001b[0;32m/usr/local/lib/python3.11/dist-packages/tensorflow/python/eager/polymorphic_function/concrete_function.py\u001b[0m in \u001b[0;36m_call_flat\u001b[0;34m(self, tensor_inputs, captured_inputs)\u001b[0m\n\u001b[1;32m   1320\u001b[0m         and executing_eagerly):\n\u001b[1;32m   1321\u001b[0m       \u001b[0;31m# No tape is watching; skip to running the function.\u001b[0m\u001b[0;34m\u001b[0m\u001b[0;34m\u001b[0m\u001b[0m\n\u001b[0;32m-> 1322\u001b[0;31m       \u001b[0;32mreturn\u001b[0m \u001b[0mself\u001b[0m\u001b[0;34m.\u001b[0m\u001b[0m_inference_function\u001b[0m\u001b[0;34m.\u001b[0m\u001b[0mcall_preflattened\u001b[0m\u001b[0;34m(\u001b[0m\u001b[0margs\u001b[0m\u001b[0;34m)\u001b[0m\u001b[0;34m\u001b[0m\u001b[0;34m\u001b[0m\u001b[0m\n\u001b[0m\u001b[1;32m   1323\u001b[0m     forward_backward = self._select_forward_and_backward_functions(\n\u001b[1;32m   1324\u001b[0m         \u001b[0margs\u001b[0m\u001b[0;34m,\u001b[0m\u001b[0;34m\u001b[0m\u001b[0;34m\u001b[0m\u001b[0m\n",
            "\u001b[0;32m/usr/local/lib/python3.11/dist-packages/tensorflow/python/eager/polymorphic_function/atomic_function.py\u001b[0m in \u001b[0;36mcall_preflattened\u001b[0;34m(self, args)\u001b[0m\n\u001b[1;32m    214\u001b[0m   \u001b[0;32mdef\u001b[0m \u001b[0mcall_preflattened\u001b[0m\u001b[0;34m(\u001b[0m\u001b[0mself\u001b[0m\u001b[0;34m,\u001b[0m \u001b[0margs\u001b[0m\u001b[0;34m:\u001b[0m \u001b[0mSequence\u001b[0m\u001b[0;34m[\u001b[0m\u001b[0mcore\u001b[0m\u001b[0;34m.\u001b[0m\u001b[0mTensor\u001b[0m\u001b[0;34m]\u001b[0m\u001b[0;34m)\u001b[0m \u001b[0;34m->\u001b[0m \u001b[0mAny\u001b[0m\u001b[0;34m:\u001b[0m\u001b[0;34m\u001b[0m\u001b[0;34m\u001b[0m\u001b[0m\n\u001b[1;32m    215\u001b[0m     \u001b[0;34m\"\"\"Calls with flattened tensor inputs and returns the structured output.\"\"\"\u001b[0m\u001b[0;34m\u001b[0m\u001b[0;34m\u001b[0m\u001b[0m\n\u001b[0;32m--> 216\u001b[0;31m     \u001b[0mflat_outputs\u001b[0m \u001b[0;34m=\u001b[0m \u001b[0mself\u001b[0m\u001b[0;34m.\u001b[0m\u001b[0mcall_flat\u001b[0m\u001b[0;34m(\u001b[0m\u001b[0;34m*\u001b[0m\u001b[0margs\u001b[0m\u001b[0;34m)\u001b[0m\u001b[0;34m\u001b[0m\u001b[0;34m\u001b[0m\u001b[0m\n\u001b[0m\u001b[1;32m    217\u001b[0m     \u001b[0;32mreturn\u001b[0m \u001b[0mself\u001b[0m\u001b[0;34m.\u001b[0m\u001b[0mfunction_type\u001b[0m\u001b[0;34m.\u001b[0m\u001b[0mpack_output\u001b[0m\u001b[0;34m(\u001b[0m\u001b[0mflat_outputs\u001b[0m\u001b[0;34m)\u001b[0m\u001b[0;34m\u001b[0m\u001b[0;34m\u001b[0m\u001b[0m\n\u001b[1;32m    218\u001b[0m \u001b[0;34m\u001b[0m\u001b[0m\n",
            "\u001b[0;32m/usr/local/lib/python3.11/dist-packages/tensorflow/python/eager/polymorphic_function/atomic_function.py\u001b[0m in \u001b[0;36mcall_flat\u001b[0;34m(self, *args)\u001b[0m\n\u001b[1;32m    249\u001b[0m         \u001b[0;32mwith\u001b[0m \u001b[0mrecord\u001b[0m\u001b[0;34m.\u001b[0m\u001b[0mstop_recording\u001b[0m\u001b[0;34m(\u001b[0m\u001b[0;34m)\u001b[0m\u001b[0;34m:\u001b[0m\u001b[0;34m\u001b[0m\u001b[0;34m\u001b[0m\u001b[0m\n\u001b[1;32m    250\u001b[0m           \u001b[0;32mif\u001b[0m \u001b[0mself\u001b[0m\u001b[0;34m.\u001b[0m\u001b[0m_bound_context\u001b[0m\u001b[0;34m.\u001b[0m\u001b[0mexecuting_eagerly\u001b[0m\u001b[0;34m(\u001b[0m\u001b[0;34m)\u001b[0m\u001b[0;34m:\u001b[0m\u001b[0;34m\u001b[0m\u001b[0;34m\u001b[0m\u001b[0m\n\u001b[0;32m--> 251\u001b[0;31m             outputs = self._bound_context.call_function(\n\u001b[0m\u001b[1;32m    252\u001b[0m                 \u001b[0mself\u001b[0m\u001b[0;34m.\u001b[0m\u001b[0mname\u001b[0m\u001b[0;34m,\u001b[0m\u001b[0;34m\u001b[0m\u001b[0;34m\u001b[0m\u001b[0m\n\u001b[1;32m    253\u001b[0m                 \u001b[0mlist\u001b[0m\u001b[0;34m(\u001b[0m\u001b[0margs\u001b[0m\u001b[0;34m)\u001b[0m\u001b[0;34m,\u001b[0m\u001b[0;34m\u001b[0m\u001b[0;34m\u001b[0m\u001b[0m\n",
            "\u001b[0;32m/usr/local/lib/python3.11/dist-packages/tensorflow/python/eager/context.py\u001b[0m in \u001b[0;36mcall_function\u001b[0;34m(self, name, tensor_inputs, num_outputs)\u001b[0m\n\u001b[1;32m   1681\u001b[0m     \u001b[0mcancellation_context\u001b[0m \u001b[0;34m=\u001b[0m \u001b[0mcancellation\u001b[0m\u001b[0;34m.\u001b[0m\u001b[0mcontext\u001b[0m\u001b[0;34m(\u001b[0m\u001b[0;34m)\u001b[0m\u001b[0;34m\u001b[0m\u001b[0;34m\u001b[0m\u001b[0m\n\u001b[1;32m   1682\u001b[0m     \u001b[0;32mif\u001b[0m \u001b[0mcancellation_context\u001b[0m \u001b[0;32mis\u001b[0m \u001b[0;32mNone\u001b[0m\u001b[0;34m:\u001b[0m\u001b[0;34m\u001b[0m\u001b[0;34m\u001b[0m\u001b[0m\n\u001b[0;32m-> 1683\u001b[0;31m       outputs = execute.execute(\n\u001b[0m\u001b[1;32m   1684\u001b[0m           \u001b[0mname\u001b[0m\u001b[0;34m.\u001b[0m\u001b[0mdecode\u001b[0m\u001b[0;34m(\u001b[0m\u001b[0;34m\"utf-8\"\u001b[0m\u001b[0;34m)\u001b[0m\u001b[0;34m,\u001b[0m\u001b[0;34m\u001b[0m\u001b[0;34m\u001b[0m\u001b[0m\n\u001b[1;32m   1685\u001b[0m           \u001b[0mnum_outputs\u001b[0m\u001b[0;34m=\u001b[0m\u001b[0mnum_outputs\u001b[0m\u001b[0;34m,\u001b[0m\u001b[0;34m\u001b[0m\u001b[0;34m\u001b[0m\u001b[0m\n",
            "\u001b[0;32m/usr/local/lib/python3.11/dist-packages/tensorflow/python/eager/execute.py\u001b[0m in \u001b[0;36mquick_execute\u001b[0;34m(op_name, num_outputs, inputs, attrs, ctx, name)\u001b[0m\n\u001b[1;32m     51\u001b[0m   \u001b[0;32mtry\u001b[0m\u001b[0;34m:\u001b[0m\u001b[0;34m\u001b[0m\u001b[0;34m\u001b[0m\u001b[0m\n\u001b[1;32m     52\u001b[0m     \u001b[0mctx\u001b[0m\u001b[0;34m.\u001b[0m\u001b[0mensure_initialized\u001b[0m\u001b[0;34m(\u001b[0m\u001b[0;34m)\u001b[0m\u001b[0;34m\u001b[0m\u001b[0;34m\u001b[0m\u001b[0m\n\u001b[0;32m---> 53\u001b[0;31m     tensors = pywrap_tfe.TFE_Py_Execute(ctx._handle, device_name, op_name,\n\u001b[0m\u001b[1;32m     54\u001b[0m                                         inputs, attrs, num_outputs)\n\u001b[1;32m     55\u001b[0m   \u001b[0;32mexcept\u001b[0m \u001b[0mcore\u001b[0m\u001b[0;34m.\u001b[0m\u001b[0m_NotOkStatusException\u001b[0m \u001b[0;32mas\u001b[0m \u001b[0me\u001b[0m\u001b[0;34m:\u001b[0m\u001b[0;34m\u001b[0m\u001b[0;34m\u001b[0m\u001b[0m\n",
            "\u001b[0;31mKeyboardInterrupt\u001b[0m: "
          ]
        }
      ]
    },
    {
      "cell_type": "markdown",
      "source": [
        "## Optimal Hyperparameters"
      ],
      "metadata": {
        "id": "KC2tw12LsDAR"
      }
    },
    {
      "cell_type": "code",
      "source": [
        "# Get the optimal hyperparameters\n",
        "best_hps = tuner.get_best_hyperparameters(num_trials=1)[0]"
      ],
      "metadata": {
        "id": "LcIzu6DasKHs"
      },
      "execution_count": 83,
      "outputs": []
    },
    {
      "cell_type": "code",
      "source": [
        "print(\"\\n--- Optimal Hyperparameters Found ---\")\n",
        "for param, value in best_hps.values.items():\n",
        "    print(f\"{param}: {value}\")"
      ],
      "metadata": {
        "colab": {
          "base_uri": "https://localhost:8080/"
        },
        "id": "lhBM_i48sOqV",
        "outputId": "e91fc005-105b-47c6-9751-a3d440765e91"
      },
      "execution_count": 84,
      "outputs": [
        {
          "output_type": "stream",
          "name": "stdout",
          "text": [
            "\n",
            "--- Optimal Hyperparameters Found ---\n",
            "embedding_trainable: True\n",
            "spatial_dropout: 0.1\n",
            "num_lstm_layers: 1\n",
            "lstm_0_units: 64\n",
            "lstm_0_dropout: 0.4\n",
            "lstm_0_recurrent_dropout: 0.2\n",
            "dense_units: 96\n",
            "dense_dropout: 0.2\n",
            "learning_rate: 0.0009887195863122636\n",
            "tuner/epochs: 2\n",
            "tuner/initial_epoch: 0\n",
            "tuner/bracket: 1\n",
            "tuner/round: 0\n"
          ]
        }
      ]
    },
    {
      "cell_type": "code",
      "source": [
        "# Build the model with the optimal hyperparameters\n",
        "best_model = tuner.hypermodel.build(best_hps)\n",
        "best_model.summary()"
      ],
      "metadata": {
        "colab": {
          "base_uri": "https://localhost:8080/",
          "height": 372
        },
        "id": "Y38ny9_lsRER",
        "outputId": "6c1f0984-f165-4d0a-a500-894b6e81fdcd"
      },
      "execution_count": 85,
      "outputs": [
        {
          "output_type": "stream",
          "name": "stderr",
          "text": [
            "/usr/local/lib/python3.11/dist-packages/keras/src/layers/core/embedding.py:90: UserWarning: Argument `input_length` is deprecated. Just remove it.\n",
            "  warnings.warn(\n"
          ]
        },
        {
          "output_type": "display_data",
          "data": {
            "text/plain": [
              "\u001b[1mModel: \"sequential_1\"\u001b[0m\n"
            ],
            "text/html": [
              "<pre style=\"white-space:pre;overflow-x:auto;line-height:normal;font-family:Menlo,'DejaVu Sans Mono',consolas,'Courier New',monospace\"><span style=\"font-weight: bold\">Model: \"sequential_1\"</span>\n",
              "</pre>\n"
            ]
          },
          "metadata": {}
        },
        {
          "output_type": "display_data",
          "data": {
            "text/plain": [
              "┏━━━━━━━━━━━━━━━━━━━━━━━━━━━━━━━━━┳━━━━━━━━━━━━━━━━━━━━━━━━┳━━━━━━━━━━━━━━━┓\n",
              "┃\u001b[1m \u001b[0m\u001b[1mLayer (type)                   \u001b[0m\u001b[1m \u001b[0m┃\u001b[1m \u001b[0m\u001b[1mOutput Shape          \u001b[0m\u001b[1m \u001b[0m┃\u001b[1m \u001b[0m\u001b[1m      Param #\u001b[0m\u001b[1m \u001b[0m┃\n",
              "┡━━━━━━━━━━━━━━━━━━━━━━━━━━━━━━━━━╇━━━━━━━━━━━━━━━━━━━━━━━━╇━━━━━━━━━━━━━━━┩\n",
              "│ embedding_1 (\u001b[38;5;33mEmbedding\u001b[0m)         │ ?                      │     \u001b[38;5;34m5,000,000\u001b[0m │\n",
              "├─────────────────────────────────┼────────────────────────┼───────────────┤\n",
              "│ spatial_dropout1d_1             │ ?                      │             \u001b[38;5;34m0\u001b[0m │\n",
              "│ (\u001b[38;5;33mSpatialDropout1D\u001b[0m)              │                        │               │\n",
              "├─────────────────────────────────┼────────────────────────┼───────────────┤\n",
              "│ bidirectional_2 (\u001b[38;5;33mBidirectional\u001b[0m) │ ?                      │   \u001b[38;5;34m0\u001b[0m (unbuilt) │\n",
              "├─────────────────────────────────┼────────────────────────┼───────────────┤\n",
              "│ dense_2 (\u001b[38;5;33mDense\u001b[0m)                 │ ?                      │   \u001b[38;5;34m0\u001b[0m (unbuilt) │\n",
              "├─────────────────────────────────┼────────────────────────┼───────────────┤\n",
              "│ dropout_1 (\u001b[38;5;33mDropout\u001b[0m)             │ ?                      │             \u001b[38;5;34m0\u001b[0m │\n",
              "├─────────────────────────────────┼────────────────────────┼───────────────┤\n",
              "│ dense_3 (\u001b[38;5;33mDense\u001b[0m)                 │ ?                      │   \u001b[38;5;34m0\u001b[0m (unbuilt) │\n",
              "└─────────────────────────────────┴────────────────────────┴───────────────┘\n"
            ],
            "text/html": [
              "<pre style=\"white-space:pre;overflow-x:auto;line-height:normal;font-family:Menlo,'DejaVu Sans Mono',consolas,'Courier New',monospace\">┏━━━━━━━━━━━━━━━━━━━━━━━━━━━━━━━━━┳━━━━━━━━━━━━━━━━━━━━━━━━┳━━━━━━━━━━━━━━━┓\n",
              "┃<span style=\"font-weight: bold\"> Layer (type)                    </span>┃<span style=\"font-weight: bold\"> Output Shape           </span>┃<span style=\"font-weight: bold\">       Param # </span>┃\n",
              "┡━━━━━━━━━━━━━━━━━━━━━━━━━━━━━━━━━╇━━━━━━━━━━━━━━━━━━━━━━━━╇━━━━━━━━━━━━━━━┩\n",
              "│ embedding_1 (<span style=\"color: #0087ff; text-decoration-color: #0087ff\">Embedding</span>)         │ ?                      │     <span style=\"color: #00af00; text-decoration-color: #00af00\">5,000,000</span> │\n",
              "├─────────────────────────────────┼────────────────────────┼───────────────┤\n",
              "│ spatial_dropout1d_1             │ ?                      │             <span style=\"color: #00af00; text-decoration-color: #00af00\">0</span> │\n",
              "│ (<span style=\"color: #0087ff; text-decoration-color: #0087ff\">SpatialDropout1D</span>)              │                        │               │\n",
              "├─────────────────────────────────┼────────────────────────┼───────────────┤\n",
              "│ bidirectional_2 (<span style=\"color: #0087ff; text-decoration-color: #0087ff\">Bidirectional</span>) │ ?                      │   <span style=\"color: #00af00; text-decoration-color: #00af00\">0</span> (unbuilt) │\n",
              "├─────────────────────────────────┼────────────────────────┼───────────────┤\n",
              "│ dense_2 (<span style=\"color: #0087ff; text-decoration-color: #0087ff\">Dense</span>)                 │ ?                      │   <span style=\"color: #00af00; text-decoration-color: #00af00\">0</span> (unbuilt) │\n",
              "├─────────────────────────────────┼────────────────────────┼───────────────┤\n",
              "│ dropout_1 (<span style=\"color: #0087ff; text-decoration-color: #0087ff\">Dropout</span>)             │ ?                      │             <span style=\"color: #00af00; text-decoration-color: #00af00\">0</span> │\n",
              "├─────────────────────────────────┼────────────────────────┼───────────────┤\n",
              "│ dense_3 (<span style=\"color: #0087ff; text-decoration-color: #0087ff\">Dense</span>)                 │ ?                      │   <span style=\"color: #00af00; text-decoration-color: #00af00\">0</span> (unbuilt) │\n",
              "└─────────────────────────────────┴────────────────────────┴───────────────┘\n",
              "</pre>\n"
            ]
          },
          "metadata": {}
        },
        {
          "output_type": "display_data",
          "data": {
            "text/plain": [
              "\u001b[1m Total params: \u001b[0m\u001b[38;5;34m5,000,000\u001b[0m (19.07 MB)\n"
            ],
            "text/html": [
              "<pre style=\"white-space:pre;overflow-x:auto;line-height:normal;font-family:Menlo,'DejaVu Sans Mono',consolas,'Courier New',monospace\"><span style=\"font-weight: bold\"> Total params: </span><span style=\"color: #00af00; text-decoration-color: #00af00\">5,000,000</span> (19.07 MB)\n",
              "</pre>\n"
            ]
          },
          "metadata": {}
        },
        {
          "output_type": "display_data",
          "data": {
            "text/plain": [
              "\u001b[1m Trainable params: \u001b[0m\u001b[38;5;34m5,000,000\u001b[0m (19.07 MB)\n"
            ],
            "text/html": [
              "<pre style=\"white-space:pre;overflow-x:auto;line-height:normal;font-family:Menlo,'DejaVu Sans Mono',consolas,'Courier New',monospace\"><span style=\"font-weight: bold\"> Trainable params: </span><span style=\"color: #00af00; text-decoration-color: #00af00\">5,000,000</span> (19.07 MB)\n",
              "</pre>\n"
            ]
          },
          "metadata": {}
        },
        {
          "output_type": "display_data",
          "data": {
            "text/plain": [
              "\u001b[1m Non-trainable params: \u001b[0m\u001b[38;5;34m0\u001b[0m (0.00 B)\n"
            ],
            "text/html": [
              "<pre style=\"white-space:pre;overflow-x:auto;line-height:normal;font-family:Menlo,'DejaVu Sans Mono',consolas,'Courier New',monospace\"><span style=\"font-weight: bold\"> Non-trainable params: </span><span style=\"color: #00af00; text-decoration-color: #00af00\">0</span> (0.00 B)\n",
              "</pre>\n"
            ]
          },
          "metadata": {}
        }
      ]
    },
    {
      "cell_type": "markdown",
      "source": [
        "# Train the Best Model"
      ],
      "metadata": {
        "id": "37_ogVyYsUeF"
      }
    },
    {
      "cell_type": "code",
      "source": [
        "print(\"\\nTraining the best model with optimal hyperparameters...\")\n",
        "\n",
        "FINAL_EPOCHS = 2 # Train for more epochs now\n",
        "FINAL_BATCH_SIZE = best_hps.get('batch_size') if 'batch_size' in best_hps.values else 64 # Or use a fixed one like 64\n",
        "\n",
        "final_early_stopping = EarlyStopping(monitor='val_accuracy', patience=5, restore_best_weights=True, mode='max', verbose=1)\n",
        "final_model_checkpoint = ModelCheckpoint('best_bilstm_tuned_model.keras', # Use .keras for new Keras format\n",
        "                                         save_best_only=True,\n",
        "                                         monitor='val_accuracy',\n",
        "                                         mode='max',\n",
        "                                         verbose=1)\n",
        "\n",
        "history = best_model.fit(\n",
        "    X_train, y_train, # Or X_train_val, y_train_val for final model training\n",
        "    epochs=FINAL_EPOCHS,\n",
        "    batch_size=FINAL_BATCH_SIZE,\n",
        "    validation_data=(X_val, y_val), # Or a new split if you used X_train_val above\n",
        "    callbacks=[final_early_stopping, final_model_checkpoint]\n",
        ")"
      ],
      "metadata": {
        "colab": {
          "base_uri": "https://localhost:8080/"
        },
        "id": "t3LaTBPDsYxF",
        "outputId": "a6a00faf-49ba-401d-ad32-71ec6b61b3ff"
      },
      "execution_count": 89,
      "outputs": [
        {
          "output_type": "stream",
          "name": "stdout",
          "text": [
            "\n",
            "Training the best model with optimal hyperparameters...\n",
            "Epoch 1/2\n",
            "\u001b[1m762/762\u001b[0m \u001b[32m━━━━━━━━━━━━━━━━━━━━\u001b[0m\u001b[37m\u001b[0m \u001b[1m0s\u001b[0m 1s/step - accuracy: 0.8136 - loss: 0.3920\n",
            "Epoch 1: val_accuracy improved from -inf to 0.91062, saving model to best_bilstm_tuned_model.keras\n",
            "\u001b[1m762/762\u001b[0m \u001b[32m━━━━━━━━━━━━━━━━━━━━\u001b[0m\u001b[37m\u001b[0m \u001b[1m1023s\u001b[0m 1s/step - accuracy: 0.8136 - loss: 0.3919 - val_accuracy: 0.9106 - val_loss: 0.2124\n",
            "Epoch 2/2\n",
            "\u001b[1m762/762\u001b[0m \u001b[32m━━━━━━━━━━━━━━━━━━━━\u001b[0m\u001b[37m\u001b[0m \u001b[1m0s\u001b[0m 1s/step - accuracy: 0.9048 - loss: 0.2199\n",
            "Epoch 2: val_accuracy improved from 0.91062 to 0.92190, saving model to best_bilstm_tuned_model.keras\n",
            "\u001b[1m762/762\u001b[0m \u001b[32m━━━━━━━━━━━━━━━━━━━━\u001b[0m\u001b[37m\u001b[0m \u001b[1m1023s\u001b[0m 1s/step - accuracy: 0.9048 - loss: 0.2199 - val_accuracy: 0.9219 - val_loss: 0.1877\n",
            "Restoring model weights from the end of the best epoch: 2.\n"
          ]
        }
      ]
    },
    {
      "cell_type": "code",
      "source": [
        "# Load the best model explicitly (ModelCheckpoint should have saved the best one)\n",
        "best_model_loaded = load_model('best_bilstm_tuned_model.keras')\n",
        "print(\"Best tuned model loaded from best_bilstm_tuned_model.keras\")"
      ],
      "metadata": {
        "colab": {
          "base_uri": "https://localhost:8080/"
        },
        "id": "uOI44vROsr0W",
        "outputId": "e254d9b1-0163-4d77-c1dc-26ff03e4a8a8"
      },
      "execution_count": 90,
      "outputs": [
        {
          "output_type": "stream",
          "name": "stdout",
          "text": [
            "Best tuned model loaded from best_bilstm_tuned_model.keras\n"
          ]
        }
      ]
    },
    {
      "cell_type": "markdown",
      "source": [
        "## Save the Best Model"
      ],
      "metadata": {
        "id": "SSzah5Wcsxph"
      }
    },
    {
      "cell_type": "code",
      "source": [
        "model_path = '/content/drive/MyDrive/Fake_News_Detection_Project/Saved_models/best_bilstm_tuned_model.pkl' # Use .pkl extension for pickle\n",
        "with open(model_path, 'wb') as f:\n",
        "    pickle.dump(best_model_loaded, f)\n",
        "\n",
        "print(f\"Best model saved to {model_path} in pickle format.\")"
      ],
      "metadata": {
        "colab": {
          "base_uri": "https://localhost:8080/"
        },
        "id": "sQHFTBz8s2dh",
        "outputId": "2d3ba3e0-07bd-4913-80de-37fa6340afd9"
      },
      "execution_count": 91,
      "outputs": [
        {
          "output_type": "stream",
          "name": "stdout",
          "text": [
            "Best model saved to /content/drive/MyDrive/Fake_News_Detection_Project/Saved_models/best_bilstm_tuned_model.pkl in pickle format.\n"
          ]
        }
      ]
    },
    {
      "cell_type": "markdown",
      "source": [
        "# Final Evaluation"
      ],
      "metadata": {
        "id": "woekG_vbs4RT"
      }
    },
    {
      "cell_type": "code",
      "source": [
        "def evaluate_model(model, X_data, y_data, data_name=\"Test\"):\n",
        "    loss, accuracy = model.evaluate(X_data, y_data, verbose=0)\n",
        "    print(f\"\\n--- Evaluation on {data_name} Data ---\")\n",
        "    print(f\"{data_name} Accuracy: {accuracy*100:.2f}%\")\n",
        "    print(f\"{data_name} Loss: {loss:.4f}\")\n",
        "\n",
        "    y_pred_probs = model.predict(X_data)\n",
        "    y_pred_classes = (y_pred_probs > 0.5).astype(\"int32\")\n",
        "\n",
        "    print(f\"\\nClassification Report ({data_name} Data):\")\n",
        "    print(classification_report(y_data, y_pred_classes, target_names=['Fake (0)', 'Real (1)']))\n",
        "\n",
        "    print(f\"\\nConfusion Matrix ({data_name} Data):\")\n",
        "    cm = confusion_matrix(y_data, y_pred_classes)\n",
        "    plt.figure(figsize=(6,5))\n",
        "    sns.heatmap(cm, annot=True, fmt='d', cmap='Blues', xticklabels=['Fake', 'Real'], yticklabels=['Fake', 'Real'])\n",
        "    plt.xlabel('Predicted')\n",
        "    plt.ylabel('Actual')\n",
        "    plt.title(f'Confusion Matrix - {data_name} Set')\n",
        "    plt.show()\n",
        "    return accuracy, loss"
      ],
      "metadata": {
        "id": "QxF5pTJXs8pX"
      },
      "execution_count": 92,
      "outputs": []
    },
    {
      "cell_type": "markdown",
      "source": [
        "## Evaluate on Training data"
      ],
      "metadata": {
        "id": "UXxTothutQzF"
      }
    },
    {
      "cell_type": "code",
      "source": [
        "train_acc, train_loss = evaluate_model(best_model_loaded, X_train, y_train, \"Training\")"
      ],
      "metadata": {
        "colab": {
          "base_uri": "https://localhost:8080/",
          "height": 799
        },
        "id": "zQNPrxfrtHAp",
        "outputId": "b2c1608e-6356-4b22-970b-182c2ecf01f0"
      },
      "execution_count": 93,
      "outputs": [
        {
          "output_type": "stream",
          "name": "stdout",
          "text": [
            "\n",
            "--- Evaluation on Training Data ---\n",
            "Training Accuracy: 93.02%\n",
            "Training Loss: 0.1577\n",
            "\u001b[1m1524/1524\u001b[0m \u001b[32m━━━━━━━━━━━━━━━━━━━━\u001b[0m\u001b[37m\u001b[0m \u001b[1m377s\u001b[0m 247ms/step\n",
            "\n",
            "Classification Report (Training Data):\n",
            "              precision    recall  f1-score   support\n",
            "\n",
            "    Fake (0)       0.94      0.91      0.93     23344\n",
            "    Real (1)       0.92      0.95      0.93     25410\n",
            "\n",
            "    accuracy                           0.93     48754\n",
            "   macro avg       0.93      0.93      0.93     48754\n",
            "weighted avg       0.93      0.93      0.93     48754\n",
            "\n",
            "\n",
            "Confusion Matrix (Training Data):\n"
          ]
        },
        {
          "output_type": "display_data",
          "data": {
            "text/plain": [
              "<Figure size 600x500 with 2 Axes>"
            ],
            "image/png": "[encoded data removed]"
          },
          "metadata": {}
        }
      ]
    },
    {
      "cell_type": "markdown",
      "source": [
        "## Evaluate on Validation data"
      ],
      "metadata": {
        "id": "hezBCBrntVHh"
      }
    },
    {
      "cell_type": "code",
      "source": [
        "val_acc, val_loss = evaluate_model(best_model_loaded, X_val, y_val, \"Validation\")"
      ],
      "metadata": {
        "colab": {
          "base_uri": "https://localhost:8080/",
          "height": 799
        },
        "id": "z9-VS_LBtY-d",
        "outputId": "dfd23fba-b7f0-4cb4-944c-a8e4519b15fc"
      },
      "execution_count": 94,
      "outputs": [
        {
          "output_type": "stream",
          "name": "stdout",
          "text": [
            "\n",
            "--- Evaluation on Validation Data ---\n",
            "Validation Accuracy: 92.19%\n",
            "Validation Loss: 0.1877\n",
            "\u001b[1m269/269\u001b[0m \u001b[32m━━━━━━━━━━━━━━━━━━━━\u001b[0m\u001b[37m\u001b[0m \u001b[1m66s\u001b[0m 246ms/step\n",
            "\n",
            "Classification Report (Validation Data):\n",
            "              precision    recall  f1-score   support\n",
            "\n",
            "    Fake (0)       0.93      0.91      0.92      4120\n",
            "    Real (1)       0.92      0.94      0.93      4484\n",
            "\n",
            "    accuracy                           0.92      8604\n",
            "   macro avg       0.92      0.92      0.92      8604\n",
            "weighted avg       0.92      0.92      0.92      8604\n",
            "\n",
            "\n",
            "Confusion Matrix (Validation Data):\n"
          ]
        },
        {
          "output_type": "display_data",
          "data": {
            "text/plain": [
              "<Figure size 600x500 with 2 Axes>"
            ],
            "image/png": "[encoded data removed]"
          },
          "metadata": {}
        }
      ]
    },
    {
      "cell_type": "markdown",
      "source": [
        "## Evaluate on the FINAL, UNSEEN Test Set"
      ],
      "metadata": {
        "id": "fyE0tDhjtc5F"
      }
    },
    {
      "cell_type": "code",
      "source": [
        "test_acc, test_loss = evaluate_model(best_model_loaded, X_test_final, y_test_final, \"Final Unseen Test\")"
      ],
      "metadata": {
        "colab": {
          "base_uri": "https://localhost:8080/",
          "height": 799
        },
        "id": "EeQlwCeytf4K",
        "outputId": "ccdff3ac-72b0-4eb9-e1d9-4a7bf675c2d8"
      },
      "execution_count": 95,
      "outputs": [
        {
          "output_type": "stream",
          "name": "stdout",
          "text": [
            "\n",
            "--- Evaluation on Final Unseen Test Data ---\n",
            "Final Unseen Test Accuracy: 91.81%\n",
            "Final Unseen Test Loss: 0.1953\n",
            "\u001b[1m449/449\u001b[0m \u001b[32m━━━━━━━━━━━━━━━━━━━━\u001b[0m\u001b[37m\u001b[0m \u001b[1m111s\u001b[0m 246ms/step\n",
            "\n",
            "Classification Report (Final Unseen Test Data):\n",
            "              precision    recall  f1-score   support\n",
            "\n",
            "    Fake (0)       0.93      0.90      0.91      6866\n",
            "    Real (1)       0.91      0.94      0.92      7474\n",
            "\n",
            "    accuracy                           0.92     14340\n",
            "   macro avg       0.92      0.92      0.92     14340\n",
            "weighted avg       0.92      0.92      0.92     14340\n",
            "\n",
            "\n",
            "Confusion Matrix (Final Unseen Test Data):\n"
          ]
        },
        {
          "output_type": "display_data",
          "data": {
            "text/plain": [
              "<Figure size 600x500 with 2 Axes>"
            ],
            "image/png": "[encoded data removed]"
          },
          "metadata": {}
        }
      ]
    },
    {
      "cell_type": "markdown",
      "source": [
        "## Best Model Summary"
      ],
      "metadata": {
        "id": "S24nlrQItqf6"
      }
    },
    {
      "cell_type": "code",
      "source": [
        "print(f\"\\n--- Summary of Best Model Performance ---\")\n",
        "print(f\"Training Accuracy:   {train_acc*100:.2f}% (Loss: {train_loss:.4f})\")\n",
        "print(f\"Validation Accuracy: {val_acc*100:.2f}% (Loss: {val_loss:.4f})\")\n",
        "print(f\"Test Accuracy:       {test_acc*100:.2f}% (Loss: {test_loss:.4f})\")"
      ],
      "metadata": {
        "colab": {
          "base_uri": "https://localhost:8080/"
        },
        "id": "mHMjzjakttzx",
        "outputId": "d6ed564c-3733-4463-d90b-b07807d175c1"
      },
      "execution_count": 96,
      "outputs": [
        {
          "output_type": "stream",
          "name": "stdout",
          "text": [
            "\n",
            "--- Summary of Best Model Performance ---\n",
            "Training Accuracy:   93.02% (Loss: 0.1577)\n",
            "Validation Accuracy: 92.19% (Loss: 0.1877)\n",
            "Test Accuracy:       91.81% (Loss: 0.1953)\n"
          ]
        }
      ]
    },
    {
      "cell_type": "markdown",
      "source": [
        "## Plot Training History"
      ],
      "metadata": {
        "id": "NOYzcsOnt2tE"
      }
    },
    {
      "cell_type": "code",
      "source": [
        "if history:\n",
        "    plt.figure(figsize=(12, 5))\n",
        "    plt.subplot(1, 2, 1)\n",
        "    plt.plot(history.history['accuracy'], label='Train Accuracy')\n",
        "    plt.plot(history.history['val_accuracy'], label='Validation Accuracy')\n",
        "    plt.title('Model Accuracy')\n",
        "    plt.xlabel('Epoch')\n",
        "    plt.ylabel('Accuracy')\n",
        "    plt.legend()\n",
        "\n",
        "    plt.subplot(1, 2, 2)\n",
        "    plt.plot(history.history['loss'], label='Train Loss')\n",
        "    plt.plot(history.history['val_loss'], label='Validation Loss')\n",
        "    plt.title('Model Loss')\n",
        "    plt.xlabel('Epoch')\n",
        "    plt.ylabel('Loss')\n",
        "    plt.legend()\n",
        "    plt.tight_layout()\n",
        "    plt.show()\n",
        "\n",
        "print(\"\\n--- Process Complete ---\")\n",
        "print(\"The 'best results' are the metrics printed above for the 'Final Unseen Test' data,\")\n",
        "print(\"achieved after hyperparameter tuning with KerasTuner and training the best found model.\")\n",
        "print(f\"To achieve >85% on training and testing, observe the test accuracy: {test_acc*100:.2f}%.\")\n",
        "print(\"If not met, you might need to: \")\n",
        "print(\"  - Ensure all your dataset paths are correct and datasets are loaded.\")\n",
        "print(\"  - Use more diverse/larger datasets.\")\n",
        "print(\"  - Increase `max_epochs` or `hyperband_iterations` in KerasTuner for a more thorough search.\")\n",
        "print(\"  - Further refine the `build_bilstm_model` search space.\")\n",
        "print(\"  - Experiment with different MAX_SEQUENCE_LENGTH or MAX_NUM_WORDS.\")"
      ],
      "metadata": {
        "colab": {
          "base_uri": "https://localhost:8080/",
          "height": 698
        },
        "id": "qp6RX_PTt8UB",
        "outputId": "bb84db93-1ead-41e9-f6cc-f2a8fdfbf3b9"
      },
      "execution_count": 97,
      "outputs": [
        {
          "output_type": "display_data",
          "data": {
            "text/plain": [
              "<Figure size 1200x500 with 2 Axes>"
            ],
            "image/png": "[encoded data removed]"
          },
          "metadata": {}
        },
        {
          "output_type": "stream",
          "name": "stdout",
          "text": [
            "\n",
            "--- Process Complete ---\n",
            "The 'best results' are the metrics printed above for the 'Final Unseen Test' data,\n",
            "achieved after hyperparameter tuning with KerasTuner and training the best found model.\n",
            "To achieve >85% on training and testing, observe the test accuracy: 91.81%.\n",
            "If not met, you might need to: \n",
            "  - Ensure all your dataset paths are correct and datasets are loaded.\n",
            "  - Use more diverse/larger datasets.\n",
            "  - Increase `max_epochs` or `hyperband_iterations` in KerasTuner for a more thorough search.\n",
            "  - Further refine the `build_bilstm_model` search space.\n",
            "  - Experiment with different MAX_SEQUENCE_LENGTH or MAX_NUM_WORDS.\n"
          ]
        }
      ]
    }
  ]
}